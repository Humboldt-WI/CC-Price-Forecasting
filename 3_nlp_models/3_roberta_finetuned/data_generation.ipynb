{
 "cells": [
  {
   "cell_type": "code",
   "execution_count": 2,
   "metadata": {},
   "outputs": [],
   "source": [
    "import pandas as pd\n",
    "from datetime import datetime"
   ]
  },
  {
   "cell_type": "code",
   "execution_count": 3,
   "metadata": {},
   "outputs": [],
   "source": [
    "btc_news = pd.read_parquet('./data/btc_news_processed.parquet.gzip')\n",
    "eth_news = pd.read_parquet('./data/eth_news_processed.parquet.gzip')\n",
    "reddit_r_bitcoin = pd.read_parquet('./data/reddit_r_bitcoin_processed.parquet.gzip')\n",
    "reddit_r_ethereum = pd.read_parquet('./data/reddit_r_ethereum_processed.parquet.gzip')\n",
    "btc_tweets = pd.read_parquet('./data/btc_tweets_processed.parquet.gzip')\n",
    "eth_tweets = pd.read_parquet('./data/eth_tweets_processed.parquet.gzip')"
   ]
  },
  {
   "cell_type": "code",
   "execution_count": 4,
   "metadata": {},
   "outputs": [],
   "source": [
    "btc_targets = pd.read_parquet('./data/btc_targets.parquet.gzip')\n",
    "eth_targets = pd.read_parquet('./data/eth_targets.parquet.gzip')"
   ]
  },
  {
   "cell_type": "code",
   "execution_count": 5,
   "metadata": {},
   "outputs": [],
   "source": [
    "btc_binary = [1 if i > 0 else 0 for i in btc_targets.btc_price_log_difference]\n",
    "btc_binary = pd.DataFrame({'target': btc_binary}, index=btc_targets.index)\n",
    "btc_binary['day'] = [datetime.fromtimestamp(int(j)).day for j in btc_binary.index]\n",
    "btc_binary['month'] = [datetime.fromtimestamp(int(j)).month for j in btc_binary.index]\n",
    "btc_binary['year'] = [datetime.fromtimestamp(int(j)).year for j in btc_binary.index]"
   ]
  },
  {
   "cell_type": "code",
   "execution_count": 6,
   "metadata": {},
   "outputs": [],
   "source": [
    "eth_binary = [1 if i > 0 else 0 for i in eth_targets.eth_price_log_difference]\n",
    "eth_binary = pd.DataFrame({'target': eth_binary}, index=eth_targets.index)\n",
    "eth_binary['day'] = [datetime.fromtimestamp(int(j)).day for j in eth_binary.index]\n",
    "eth_binary['month'] = [datetime.fromtimestamp(int(j)).month for j in eth_binary.index]\n",
    "eth_binary['year'] = [datetime.fromtimestamp(int(j)).year for j in eth_binary.index]"
   ]
  },
  {
   "cell_type": "code",
   "execution_count": 7,
   "metadata": {},
   "outputs": [],
   "source": [
    "btc_news_grouped = (\n",
    "    btc_news.groupby(['day', 'month', 'year'])['title']\n",
    "    .apply(list)\n",
    "    .reset_index()\n",
    ")\n",
    "eth_news_grouped = (\n",
    "    eth_news.groupby(['day', 'month', 'year'])['title']\n",
    "    .apply(list)\n",
    "    .reset_index()\n",
    ")\n",
    "reddit_r_bitcoin_grouped = (\n",
    "    reddit_r_bitcoin.groupby(['day', 'month', 'year'])['content']\n",
    "    .apply(list)\n",
    "    .reset_index()\n",
    ")\n",
    "reddit_r_ethereum_grouped = (\n",
    "    reddit_r_ethereum.groupby(['day', 'month', 'year'])['content']\n",
    "    .apply(list)\n",
    "    .reset_index()\n",
    ")\n",
    "btc_tweets_grouped = (\n",
    "    btc_tweets.groupby(['day', 'month', 'year'])['content_cleaned']\n",
    "    .apply(list)\n",
    "    .reset_index()\n",
    ")\n",
    "eth_tweets_grouped = (\n",
    "    eth_tweets.groupby(['day', 'month', 'year'])['content_cleaned']\n",
    "    .apply(list)\n",
    "    .reset_index()\n",
    ")"
   ]
  },
  {
   "cell_type": "code",
   "execution_count": 8,
   "metadata": {},
   "outputs": [],
   "source": [
    "btc_news_merged = (\n",
    "    pd.merge(btc_binary, btc_news_grouped, 'left', on=['day', 'month', 'year'])\n",
    "    .rename(columns={\"title\": \"text\", \"target\": \"label\"})\n",
    ")\n",
    "eth_news_merged = (\n",
    "    pd.merge(eth_binary, eth_news_grouped, 'left', on=['day', 'month', 'year'])\n",
    "    .rename(columns={\"title\": \"text\", \"target\": \"label\"})\n",
    ")\n",
    "reddit_r_bitcoin_merged = (\n",
    "    pd.merge(btc_binary, reddit_r_bitcoin_grouped, 'left', on=['day', 'month', 'year'])\n",
    "    .rename(columns={\"content\": \"text\", \"target\": \"label\"})\n",
    ")\n",
    "reddit_r_ethereum_merged = (\n",
    "    pd.merge(eth_binary, reddit_r_ethereum_grouped, 'left', on=['day', 'month', 'year'])\n",
    "    .rename(columns={\"content\": \"text\", \"target\": \"label\"})\n",
    ")\n",
    "btc_tweets_merged = (\n",
    "    pd.merge(btc_binary, btc_tweets_grouped, 'left', on=['day', 'month', 'year'])\n",
    "    .rename(columns={\"content_cleaned\": \"text\", \"target\": \"label\"})\n",
    ")\n",
    "eth_tweets_merged = (\n",
    "    pd.merge(eth_binary, eth_tweets_grouped, 'left', on=['day', 'month', 'year'])\n",
    "    .rename(columns={\"content_cleaned\": \"text\", \"target\": \"label\"})\n",
    ")"
   ]
  },
  {
   "cell_type": "code",
   "execution_count": 9,
   "metadata": {},
   "outputs": [],
   "source": [
    "btc_news_merged.to_parquet('data_merged/btc_news_merged.parquet.gzip', compression='gzip')\n",
    "eth_news_merged.to_parquet('data_merged/eth_news_merged.parquet.gzip', compression='gzip')\n",
    "reddit_r_bitcoin_merged.to_parquet('data_merged/reddit_r_bitcoin_merged.parquet.gzip', compression='gzip')\n",
    "reddit_r_ethereum_merged.to_parquet('data_merged/reddit_r_ethereum_merged.parquet.gzip', compression='gzip')\n",
    "btc_tweets_merged.to_parquet('data_merged/btc_tweets_merged.parquet.gzip', compression='gzip')\n",
    "eth_tweets_merged.to_parquet('data_merged/eth_tweets_merged.parquet.gzip', compression='gzip')"
   ]
  }
 ],
 "metadata": {
  "kernelspec": {
   "display_name": "tsf",
   "language": "python",
   "name": "python3"
  },
  "language_info": {
   "codemirror_mode": {
    "name": "ipython",
    "version": 3
   },
   "file_extension": ".py",
   "mimetype": "text/x-python",
   "name": "python",
   "nbconvert_exporter": "python",
   "pygments_lexer": "ipython3",
   "version": "3.8.16"
  },
  "orig_nbformat": 4
 },
 "nbformat": 4,
 "nbformat_minor": 2
}
