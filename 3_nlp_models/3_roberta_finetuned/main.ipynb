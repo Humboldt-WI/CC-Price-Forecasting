{
 "cells": [
  {
   "cell_type": "code",
   "execution_count": 1,
   "metadata": {},
   "outputs": [],
   "source": [
    "import os\n",
    "import torch\n",
    "\n",
    "from transformers import set_seed\n",
    "\n",
    "from functions import *\n",
    "from utils.telegram import sendMessage\n",
    "\n",
    "from config import get_model_config\n",
    "from functions import get_roberta_finetuned_results"
   ]
  },
  {
   "cell_type": "code",
   "execution_count": 2,
   "metadata": {},
   "outputs": [],
   "source": [
    "os.environ['TOKENIZERS_PARALLELISM'] = 'false'\n",
    "\n",
    "set_seed(42)\n",
    "torch.cuda.manual_seed(42)\n",
    "torch.cuda.manual_seed_all(42)\n",
    "torch.backends.cudnn.deterministic = True\n",
    "torch.backends.cudnn.benchmark = False\n",
    "\n",
    "device = torch.device('cuda' if torch.cuda.is_available() else 'cpu')"
   ]
  },
  {
   "cell_type": "code",
   "execution_count": 3,
   "metadata": {},
   "outputs": [],
   "source": [
    "datasets = [\n",
    "    'btc_news',\n",
    "    'eth_news',\n",
    "    'reddit_r_bitcoin',\n",
    "    'reddit_r_ethereum',\n",
    "    'btc_tweets',\n",
    "    'eth_tweets',\n",
    "]"
   ]
  },
  {
   "cell_type": "code",
   "execution_count": 4,
   "metadata": {},
   "outputs": [],
   "source": [
    "directory = 'results'\n",
    "\n",
    "if not os.path.exists(directory):\n",
    "    os.makedirs(directory)"
   ]
  },
  {
   "cell_type": "code",
   "execution_count": null,
   "metadata": {},
   "outputs": [],
   "source": [
    "for DATASET_NAME in datasets:\n",
    "\n",
    "    print(f'\\nCalculating predictions on {DATASET_NAME} dataset\\n')\n",
    "\n",
    "    try:\n",
    "        model_config = get_model_config(DATASET_NAME)\n",
    "        predictions = get_roberta_finetuned_results(DATASET_NAME, **model_config)\n",
    "        predictions.to_parquet(f'results/{DATASET_NAME}_roberta_finetuned.parquet.gzip', compression='gzip')\n",
    "        sendMessage(f'RoBERTa {DATASET_NAME} predictions successfully calculated and saved. \\U0001F389')\n",
    "    except Exception as e:\n",
    "        sendMessage(f'RoBERTa {DATASET_NAME} prediction calculation returned error: {e} \\U0001F614')\n"
   ]
  }
 ],
 "metadata": {
  "kernelspec": {
   "display_name": "roberta",
   "language": "python",
   "name": "python3"
  },
  "language_info": {
   "codemirror_mode": {
    "name": "ipython",
    "version": 3
   },
   "file_extension": ".py",
   "mimetype": "text/x-python",
   "name": "python",
   "nbconvert_exporter": "python",
   "pygments_lexer": "ipython3",
   "version": "3.8.16"
  },
  "orig_nbformat": 4
 },
 "nbformat": 4,
 "nbformat_minor": 2
}
