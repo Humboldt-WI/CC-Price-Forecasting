{
 "cells": [
  {
   "cell_type": "code",
   "execution_count": 9,
   "metadata": {},
   "outputs": [],
   "source": [
    "import pandas as pd"
   ]
  },
  {
   "cell_type": "code",
   "execution_count": 23,
   "metadata": {},
   "outputs": [],
   "source": [
    "datasets = [\n",
    "    'btc_news',\n",
    "    'btc_tweets',\n",
    "    'reddit_r_bitcoin',\n",
    "    'eth_news',\n",
    "    'eth_tweets',\n",
    "    'reddit_r_ethereum',\n",
    "]"
   ]
  },
  {
   "cell_type": "code",
   "execution_count": 39,
   "metadata": {},
   "outputs": [
    {
     "name": "stdout",
     "output_type": "stream",
     "text": [
      "btc_news imbalance ratio: 0.5215\n",
      "btc_tweets imbalance ratio: 0.5287\n",
      "reddit_r_bitcoin imbalance ratio: 0.5403\n",
      "eth_news imbalance ratio: 0.5108\n",
      "eth_tweets imbalance ratio: 0.5130\n",
      "reddit_r_ethereum imbalance ratio: 0.5135\n"
     ]
    }
   ],
   "source": [
    "for DATASET_NAME in datasets:\n",
    "    data = pd.read_parquet(f'./data_merged/{DATASET_NAME}_merged.parquet.gzip').dropna()\n",
    "    imbalance_ratio = data.label.sum() / len(data)\n",
    "    print(f'{DATASET_NAME} imbalance ratio: {imbalance_ratio:.4f}')"
   ]
  }
 ],
 "metadata": {
  "kernelspec": {
   "display_name": "tsf",
   "language": "python",
   "name": "python3"
  },
  "language_info": {
   "codemirror_mode": {
    "name": "ipython",
    "version": 3
   },
   "file_extension": ".py",
   "mimetype": "text/x-python",
   "name": "python",
   "nbconvert_exporter": "python",
   "pygments_lexer": "ipython3",
   "version": "3.8.16"
  },
  "orig_nbformat": 4
 },
 "nbformat": 4,
 "nbformat_minor": 2
}
