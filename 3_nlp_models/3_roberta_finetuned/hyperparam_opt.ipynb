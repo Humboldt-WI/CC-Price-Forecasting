{
 "cells": [
  {
   "cell_type": "code",
   "execution_count": 1,
   "metadata": {},
   "outputs": [],
   "source": [
    "import os\n",
    "import torch\n",
    "import optuna\n",
    "\n",
    "from transformers import set_seed\n",
    "\n",
    "from functions import *\n",
    "from utils.telegram import sendMessage\n",
    "from utils.wrappers import timeit"
   ]
  },
  {
   "cell_type": "code",
   "execution_count": 2,
   "metadata": {},
   "outputs": [],
   "source": [
    "os.environ['TOKENIZERS_PARALLELISM'] = 'false'\n",
    "\n",
    "set_seed(42)\n",
    "torch.cuda.manual_seed(42)\n",
    "torch.cuda.manual_seed_all(42)\n",
    "torch.backends.cudnn.deterministic = True\n",
    "torch.backends.cudnn.benchmark = False\n",
    "\n",
    "device = torch.device('cuda' if torch.cuda.is_available() else 'cpu')"
   ]
  },
  {
   "cell_type": "code",
   "execution_count": 3,
   "metadata": {},
   "outputs": [],
   "source": [
    "datasets = [\n",
    "    'btc_news',\n",
    "    'eth_news',\n",
    "    'reddit_r_bitcoin',\n",
    "    'reddit_r_ethereum',\n",
    "    'btc_tweets',\n",
    "    'eth_tweets',\n",
    "]\n",
    "PROJECT_NAME = 'RoBERTa Eval-Finetuning'\n",
    "N_TRIALS = 40"
   ]
  },
  {
   "cell_type": "code",
   "execution_count": 4,
   "metadata": {},
   "outputs": [],
   "source": [
    "def run_hyperparam_opt(dataset_name: str, project_name: str, n_trials: int):\n",
    "    ''' Runs hyperparamter optimisation of RoBERTa on given dataset.\n",
    "    \n",
    "    Args:\n",
    "        dataset_name (str): Name of the dataset to optimise hyperparameters on\n",
    "        project_name (str): Name of W&B project to log results to\n",
    "        n_trials (int): Number of trials runs optuna should run on the dataset\n",
    "    '''\n",
    "    \n",
    "    def objective(trial):\n",
    "        ''' Objective function for optuna run. '''\n",
    "\n",
    "        config = {\n",
    "            'learning_rate': trial.suggest_float(\n",
    "                name='learning_rate',\n",
    "                low=5e-6,\n",
    "                high=5e-2,\n",
    "            ),\n",
    "            'num_train_epochs': trial.suggest_int(\n",
    "                name='num_train_epochs',\n",
    "                low=2,\n",
    "                high=9,\n",
    "            ),\n",
    "            'per_device_train_batch_size': trial.suggest_categorical(\n",
    "                name='per_device_train_batch_size',\n",
    "                choices=[8, 16, 32, 64],\n",
    "            ),\n",
    "            'warmup_steps': trial.suggest_int(\n",
    "                name='warmup_steps',\n",
    "                low=0,\n",
    "                high=20,\n",
    "            ),               \n",
    "            'weight_decay': trial.suggest_float(\n",
    "                name='weight_decay',\n",
    "                low=0.001,\n",
    "                high=0.2,\n",
    "                log=True,\n",
    "            ),\n",
    "        } \n",
    "\n",
    "        return run_and_log_finetuning(dataset_name, project_name, **config)\n",
    "    \n",
    "    study = optuna.create_study(\n",
    "        direction='maximize',\n",
    "        study_name=dataset_name,\n",
    "    )\n",
    "    study.optimize(objective, n_trials=n_trials)"
   ]
  },
  {
   "cell_type": "code",
   "execution_count": null,
   "metadata": {},
   "outputs": [],
   "source": [
    "%%capture output\n",
    "for DATASET_NAME in datasets:\n",
    "    try:\n",
    "        run_hyperparam_opt(DATASET_NAME, PROJECT_NAME, N_TRIALS)\n",
    "        sendMessage(f'RoBERTa {DATASET_NAME} hyperparameter optimization successfully finished. \\U0001F389')\n",
    "    except Exception as e:\n",
    "        sendMessage(f'RoBERTa {DATASET_NAME} hyperparameter optimization returned error: {e} \\U0001F614')\n",
    "        raise e"
   ]
  }
 ],
 "metadata": {
  "kernelspec": {
   "display_name": "tsf",
   "language": "python",
   "name": "python3"
  },
  "language_info": {
   "codemirror_mode": {
    "name": "ipython",
    "version": 3
   },
   "file_extension": ".py",
   "mimetype": "text/x-python",
   "name": "python",
   "nbconvert_exporter": "python",
   "pygments_lexer": "ipython3",
   "version": "3.8.16"
  },
  "orig_nbformat": 4
 },
 "nbformat": 4,
 "nbformat_minor": 2
}
