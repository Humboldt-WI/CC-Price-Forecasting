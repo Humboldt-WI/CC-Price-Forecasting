{
 "cells": [
  {
   "attachments": {},
   "cell_type": "markdown",
   "metadata": {},
   "source": [
    "# Postprocessing NLP data"
   ]
  },
  {
   "cell_type": "code",
   "execution_count": 1,
   "metadata": {},
   "outputs": [],
   "source": [
    "import numpy as np\n",
    "import pytz\n",
    "import pandas as pd\n",
    "from datetime import datetime"
   ]
  },
  {
   "cell_type": "code",
   "execution_count": 2,
   "metadata": {},
   "outputs": [],
   "source": [
    "import sys\n",
    "sys.path.append('../../2_data_processing/numeric_data/')\n",
    "\n",
    "from functions import unit_root_testing, HeskedTesting"
   ]
  },
  {
   "attachments": {},
   "cell_type": "markdown",
   "metadata": {},
   "source": [
    "### Load data"
   ]
  },
  {
   "cell_type": "code",
   "execution_count": 3,
   "metadata": {},
   "outputs": [],
   "source": [
    "btc_news_vader = pd.read_parquet('../0_vader/btc_news_vader.parquet.gzip')\n",
    "btc_tweets_vader = pd.read_parquet('../0_vader/btc_tweets_vader.parquet.gzip')\n",
    "btc_reddit_vader = pd.read_parquet('../0_vader/reddit_r_bitcoin_vader.parquet.gzip')\n",
    "\n",
    "btc_news_roberta = pd.read_parquet('../1_twitter_roberta_pretrained/btc_news_roberta_pretrained.parquet.gzip')\n",
    "btc_tweets_roberta = pd.read_parquet('../1_twitter_roberta_pretrained/btc_tweets_roberta_pretrained.parquet.gzip')\n",
    "btc_reddit_roberta = pd.read_parquet('../1_twitter_roberta_pretrained/reddit_r_bitcoin_roberta_pretrained.parquet.gzip')\n",
    "\n",
    "btc_news_bart = pd.read_parquet('../2_bart_zero_shot/btc_news_bart_mnli.parquet.gzip')\n",
    "btc_tweets_bart = pd.read_parquet('../2_bart_zero_shot/btc_tweets_bart_mnli.parquet.gzip')\n",
    "btc_reddit_bart = pd.read_parquet('../2_bart_zero_shot/reddit_r_bitcoin_bart_mnli.parquet.gzip')\n",
    "\n",
    "btc_news_roberta_finetuned = pd.read_parquet('../3_roberta_finetuned/first_results/btc_news_roberta_finetuned.parquet.gzip')\n",
    "btc_tweets_roberta_finetuned = pd.read_parquet('../3_roberta_finetuned/first_results/btc_tweets_roberta_finetuned.parquet.gzip')\n",
    "btc_reddit_roberta_finetuned = pd.read_parquet('../3_roberta_finetuned/first_results/reddit_r_bitcoin_roberta_finetuned.parquet.gzip')"
   ]
  },
  {
   "cell_type": "code",
   "execution_count": 4,
   "metadata": {},
   "outputs": [],
   "source": [
    "eth_news_vader = pd.read_parquet('../0_vader/eth_news_vader.parquet.gzip')\n",
    "eth_tweets_vader = pd.read_parquet('../0_vader/eth_tweets_vader.parquet.gzip')\n",
    "eth_reddit_vader = pd.read_parquet('../0_vader/reddit_r_ethereum_vader.parquet.gzip')\n",
    "\n",
    "eth_news_roberta = pd.read_parquet('../1_twitter_roberta_pretrained/eth_news_roberta_pretrained.parquet.gzip')\n",
    "eth_tweets_roberta = pd.read_parquet('../1_twitter_roberta_pretrained/eth_tweets_roberta_pretrained.parquet.gzip')\n",
    "eth_reddit_roberta = pd.read_parquet('../1_twitter_roberta_pretrained/reddit_r_ethereum_roberta_pretrained.parquet.gzip')\n",
    "\n",
    "eth_news_bart = pd.read_parquet('../2_bart_zero_shot/eth_news_bart_mnli.parquet.gzip')\n",
    "eth_tweets_bart = pd.read_parquet('../2_bart_zero_shot/eth_tweets_bart_mnli.parquet.gzip')\n",
    "eth_reddit_bart = pd.read_parquet('../2_bart_zero_shot/reddit_r_ethereum_bart_mnli.parquet.gzip')\n",
    "\n",
    "eth_news_roberta_finetuned = pd.read_parquet('../3_roberta_finetuned/first_results/eth_news_roberta_finetuned.parquet.gzip')\n",
    "eth_tweets_roberta_finetuned = pd.read_parquet('../3_roberta_finetuned/first_results/eth_tweets_roberta_finetuned.parquet.gzip')\n",
    "eth_reddit_roberta_finetuned = pd.read_parquet('../3_roberta_finetuned/first_results/reddit_r_ethereum_roberta_finetuned.parquet.gzip')"
   ]
  },
  {
   "attachments": {},
   "cell_type": "markdown",
   "metadata": {},
   "source": [
    "### Aggregate by day"
   ]
  },
  {
   "cell_type": "code",
   "execution_count": 5,
   "metadata": {},
   "outputs": [],
   "source": [
    "nlp_dfs = [\n",
    "    btc_news_vader,\n",
    "    btc_tweets_vader,\n",
    "    btc_reddit_vader,\n",
    "    btc_news_roberta,\n",
    "    btc_tweets_roberta,\n",
    "    btc_reddit_roberta,\n",
    "    btc_news_bart,\n",
    "    btc_tweets_bart,\n",
    "    btc_reddit_bart,\n",
    "    btc_news_roberta_finetuned,\n",
    "    btc_tweets_roberta_finetuned,\n",
    "    btc_reddit_roberta_finetuned,\n",
    "    eth_news_vader,\n",
    "    eth_tweets_vader,\n",
    "    eth_reddit_vader,\n",
    "    eth_news_roberta,\n",
    "    eth_tweets_roberta,\n",
    "    eth_reddit_roberta,\n",
    "    eth_news_bart,\n",
    "    eth_tweets_bart,\n",
    "    eth_reddit_bart,\n",
    "    eth_news_roberta_finetuned,\n",
    "    eth_tweets_roberta_finetuned,\n",
    "    eth_reddit_roberta_finetuned,\n",
    "]\n",
    "\n",
    "nlp_dfs_names = ['btc_news', 'btc_tweets', 'btc_reddit'] * 4 + ['eth_news', 'eth_tweets', 'eth_reddit'] * 4"
   ]
  },
  {
   "cell_type": "code",
   "execution_count": 6,
   "metadata": {},
   "outputs": [],
   "source": [
    "for i in range(len(nlp_dfs)):\n",
    "    nlp_dfs[i] = nlp_dfs[i].groupby(['year', 'month', 'day']).mean().copy()\n",
    "    nlp_dfs[i]['timestamp'] = [datetime(i[0], i[1], i[2], tzinfo=pytz.UTC).timestamp() for i in nlp_dfs[i].index]\n",
    "    nlp_dfs[i] = nlp_dfs[i].reset_index(drop=True).set_index('timestamp').copy()\n",
    "    nlp_dfs[i] = nlp_dfs[i].drop(columns=[\n",
    "        'tweet_id',\n",
    "        'like_count',\n",
    "        'retweet_count',\n",
    "        'reply_count',\n",
    "        'user_favourites_count',\n",
    "        'user_follower_count',\n",
    "        'score',\n",
    "        ], errors='ignore')\n",
    "    nlp_dfs[i] = nlp_dfs[i].add_prefix(nlp_dfs_names[i] + '_')"
   ]
  },
  {
   "cell_type": "code",
   "execution_count": 7,
   "metadata": {},
   "outputs": [],
   "source": [
    "nlp_data = pd.concat([*nlp_dfs], axis=1).sort_index()"
   ]
  },
  {
   "cell_type": "code",
   "execution_count": 8,
   "metadata": {},
   "outputs": [],
   "source": [
    "btc_news_count = btc_news_bart.groupby(['year', 'month', 'day']).count()[['timestamp']].rename(columns={'timestamp': 'btc_news_count'})\n",
    "btc_news_count['timestamp'] = [datetime(i[0], i[1], i[2], tzinfo=pytz.UTC).timestamp() for i in btc_news_count.index]\n",
    "btc_news_count = btc_news_count.reset_index(drop=True).set_index('timestamp')\n",
    "\n",
    "btc_tweet_count = btc_tweets_bart.groupby(['year', 'month', 'day']).count()[['tweet_id']].rename(columns={'tweet_id': 'btc_tweet_count'})\n",
    "btc_tweet_count['timestamp'] = [datetime(i[0], i[1], i[2], tzinfo=pytz.UTC).timestamp() for i in btc_tweet_count.index]\n",
    "btc_tweet_count = btc_tweet_count.reset_index(drop=True).set_index('timestamp')\n",
    "\n",
    "btc_reddit_count = btc_reddit_bart.groupby(['year', 'month', 'day']).count()[['timestamp']].rename(columns={'timestamp': 'btc_reddit_count'})\n",
    "btc_reddit_count['timestamp'] = [datetime(i[0], i[1], i[2], tzinfo=pytz.UTC).timestamp() for i in btc_reddit_count.index]\n",
    "btc_reddit_count = btc_reddit_count.reset_index(drop=True).set_index('timestamp')\n",
    "\n",
    "eth_news_count = eth_news_bart.groupby(['year', 'month', 'day']).count()[['timestamp']].rename(columns={'timestamp': 'eth_news_count'})\n",
    "eth_news_count['timestamp'] = [datetime(i[0], i[1], i[2], tzinfo=pytz.UTC).timestamp() for i in eth_news_count.index]\n",
    "eth_news_count = eth_news_count.reset_index(drop=True).set_index('timestamp')\n",
    "\n",
    "eth_tweet_count = eth_tweets_bart.groupby(['year', 'month', 'day']).count()[['tweet_id']].rename(columns={'tweet_id': 'eth_tweet_count'})\n",
    "eth_tweet_count['timestamp'] = [datetime(i[0], i[1], i[2], tzinfo=pytz.UTC).timestamp() for i in eth_tweet_count.index]\n",
    "eth_tweet_count = eth_tweet_count.reset_index(drop=True).set_index('timestamp')\n",
    "\n",
    "eth_reddit_count = eth_reddit_bart.groupby(['year', 'month', 'day']).count()[['timestamp']].rename(columns={'timestamp': 'eth_reddit_count'})\n",
    "eth_reddit_count['timestamp'] = [datetime(i[0], i[1], i[2], tzinfo=pytz.UTC).timestamp() for i in eth_reddit_count.index]\n",
    "eth_reddit_count = eth_reddit_count.reset_index(drop=True).set_index('timestamp')\n",
    "\n",
    "count_data = pd.concat([btc_news_count,\n",
    "                        btc_tweet_count,\n",
    "                        btc_reddit_count,\n",
    "                        eth_news_count,\n",
    "                        eth_tweet_count,\n",
    "                        eth_reddit_count], axis=1)\n"
   ]
  },
  {
   "cell_type": "code",
   "execution_count": 9,
   "metadata": {},
   "outputs": [],
   "source": [
    "text_data = pd.concat([nlp_data, count_data], axis=1)"
   ]
  },
  {
   "attachments": {},
   "cell_type": "markdown",
   "metadata": {},
   "source": [
    "### Check stationarity"
   ]
  },
  {
   "cell_type": "code",
   "execution_count": 10,
   "metadata": {},
   "outputs": [
    {
     "name": "stdout",
     "output_type": "stream",
     "text": [
      "Results of White, Breusch-Pagan and Goldfeld-Quandt tests by column (p-values):\n",
      "\n",
      "btc_news_vader_score --                            White: \u001b[31m0.0000\u001b[0m,                          Breusch-Pagan: \u001b[31m0.0000\u001b[0m,                   Goldfeld-Quandt: \u001b[31m0.0000\u001b[0m\n",
      "btc_tweets_vader_score --                          White: \u001b[31m0.0000\u001b[0m,                          Breusch-Pagan: \u001b[31m0.0000\u001b[0m,                   Goldfeld-Quandt: \u001b[31m0.0000\u001b[0m\n",
      "btc_reddit_vader_score --                          White: \u001b[31m0.0000\u001b[0m,                          Breusch-Pagan: \u001b[31m0.0000\u001b[0m,                   Goldfeld-Quandt: \u001b[31m0.0000\u001b[0m\n",
      "btc_news_twitter_roberta_pretrained_score --       White: \u001b[31m0.0000\u001b[0m,                          Breusch-Pagan: \u001b[31m0.0000\u001b[0m,                   Goldfeld-Quandt: \u001b[31m0.0000\u001b[0m\n",
      "btc_tweets_twitter_roberta_pretrained_score --     White: \u001b[31m0.0000\u001b[0m,                          Breusch-Pagan: \u001b[31m0.0000\u001b[0m,                   Goldfeld-Quandt: \u001b[31m0.0000\u001b[0m\n",
      "btc_reddit_twitter_roberta_pretrained_score --     White: \u001b[31m0.0000\u001b[0m,                          Breusch-Pagan: \u001b[31m0.0000\u001b[0m,                   Goldfeld-Quandt: \u001b[31m0.0000\u001b[0m\n",
      "btc_news_bart_mnli_bullish_score --                White: \u001b[31m0.0003\u001b[0m,                          Breusch-Pagan: \u001b[31m0.0006\u001b[0m,                   Goldfeld-Quandt: \u001b[31m0.0000\u001b[0m\n",
      "btc_tweets_bart_mnli_bullish_score --              White: \u001b[31m0.0000\u001b[0m,                          Breusch-Pagan: \u001b[31m0.0000\u001b[0m,                   Goldfeld-Quandt: \u001b[31m0.0000\u001b[0m\n",
      "btc_reddit_bart_mnli_bullish_score --              White: \u001b[31m0.0000\u001b[0m,                          Breusch-Pagan: \u001b[31m0.0000\u001b[0m,                   Goldfeld-Quandt: \u001b[31m0.0000\u001b[0m\n",
      "btc_news_roberta_finetuned_score --                White: \u001b[31m0.0000\u001b[0m,                          Breusch-Pagan: \u001b[31m0.0000\u001b[0m,                   Goldfeld-Quandt: \u001b[31m0.0000\u001b[0m\n",
      "btc_tweets_roberta_finetuned_score --              White: \u001b[31m0.0000\u001b[0m,                          Breusch-Pagan: \u001b[31m0.0000\u001b[0m,                   Goldfeld-Quandt: \u001b[31m0.0000\u001b[0m\n",
      "btc_reddit_roberta_finetuned_score --              White: \u001b[31m0.0000\u001b[0m,                          Breusch-Pagan: \u001b[31m0.0000\u001b[0m,                   Goldfeld-Quandt: \u001b[31m0.0000\u001b[0m\n",
      "eth_news_vader_score --                            White: \u001b[31m0.0000\u001b[0m,                          Breusch-Pagan: \u001b[31m0.0000\u001b[0m,                   Goldfeld-Quandt: \u001b[31m0.0000\u001b[0m\n",
      "eth_tweets_vader_score --                          White: \u001b[31m0.0000\u001b[0m,                          Breusch-Pagan: \u001b[31m0.0000\u001b[0m,                   Goldfeld-Quandt: \u001b[31m0.0000\u001b[0m\n",
      "eth_reddit_vader_score --                          White: \u001b[31m0.0000\u001b[0m,                          Breusch-Pagan: \u001b[31m0.0000\u001b[0m,                   Goldfeld-Quandt: \u001b[32m0.0481\u001b[0m\n",
      "eth_news_twitter_roberta_pretrained_score --       White: \u001b[31m0.0000\u001b[0m,                          Breusch-Pagan: \u001b[31m0.0000\u001b[0m,                   Goldfeld-Quandt: \u001b[31m0.0000\u001b[0m\n",
      "eth_tweets_twitter_roberta_pretrained_score --     White: \u001b[31m0.0000\u001b[0m,                          Breusch-Pagan: \u001b[31m0.0000\u001b[0m,                   Goldfeld-Quandt: \u001b[31m0.0000\u001b[0m\n",
      "eth_reddit_twitter_roberta_pretrained_score --     White: \u001b[31m0.0000\u001b[0m,                          Breusch-Pagan: \u001b[32m0.0516\u001b[0m,                   Goldfeld-Quandt: \u001b[31m0.0015\u001b[0m\n",
      "eth_news_bart_mnli_bullish_score --                White: \u001b[31m0.0000\u001b[0m,                          Breusch-Pagan: \u001b[31m0.0000\u001b[0m,                   Goldfeld-Quandt: \u001b[31m0.0000\u001b[0m\n",
      "eth_tweets_bart_mnli_bullish_score --              White: \u001b[31m0.0000\u001b[0m,                          Breusch-Pagan: \u001b[31m0.0000\u001b[0m,                   Goldfeld-Quandt: \u001b[31m0.0000\u001b[0m\n",
      "eth_reddit_bart_mnli_bullish_score --              White: \u001b[31m0.0000\u001b[0m,                          Breusch-Pagan: \u001b[31m0.0000\u001b[0m,                   Goldfeld-Quandt: \u001b[31m0.0000\u001b[0m\n",
      "eth_news_roberta_finetuned_score --                White: \u001b[31m0.0000\u001b[0m,                          Breusch-Pagan: \u001b[31m0.0000\u001b[0m,                   Goldfeld-Quandt: \u001b[31m0.0000\u001b[0m\n",
      "eth_tweets_roberta_finetuned_score --              White: \u001b[31m0.0000\u001b[0m,                          Breusch-Pagan: \u001b[31m0.0000\u001b[0m,                   Goldfeld-Quandt: \u001b[31m0.0000\u001b[0m\n",
      "eth_reddit_roberta_finetuned_score --              White: \u001b[31m0.0000\u001b[0m,                          Breusch-Pagan: \u001b[31m0.0000\u001b[0m,                   Goldfeld-Quandt: \u001b[31m0.0000\u001b[0m\n",
      "btc_news_count --                                  White: \u001b[31m0.0000\u001b[0m,                          Breusch-Pagan: \u001b[31m0.0000\u001b[0m,                   Goldfeld-Quandt: \u001b[31m0.0000\u001b[0m\n",
      "btc_tweet_count --                                 White: \u001b[31m0.0000\u001b[0m,                          Breusch-Pagan: \u001b[31m0.0000\u001b[0m,                   Goldfeld-Quandt: \u001b[31m0.0000\u001b[0m\n",
      "btc_reddit_count --                                White: \u001b[31m0.0056\u001b[0m,                          Breusch-Pagan: \u001b[32m0.0479\u001b[0m,                   Goldfeld-Quandt: \u001b[31m0.0000\u001b[0m\n",
      "eth_news_count --                                  White: \u001b[31m0.0000\u001b[0m,                          Breusch-Pagan: \u001b[31m0.0000\u001b[0m,                   Goldfeld-Quandt: \u001b[31m0.0000\u001b[0m\n",
      "eth_tweet_count --                                 White: \u001b[31m0.0000\u001b[0m,                          Breusch-Pagan: \u001b[31m0.0000\u001b[0m,                   Goldfeld-Quandt: \u001b[31m0.0000\u001b[0m\n",
      "eth_reddit_count --                                White: \u001b[31m0.0002\u001b[0m,                          Breusch-Pagan: \u001b[31m0.0011\u001b[0m,                   Goldfeld-Quandt: \u001b[31m0.0000\u001b[0m\n"
     ]
    }
   ],
   "source": [
    "HeskedTesting.run_all_tests(text_data, conf=0.01, tabsize=50)"
   ]
  },
  {
   "cell_type": "code",
   "execution_count": 11,
   "metadata": {},
   "outputs": [
    {
     "name": "stdout",
     "output_type": "stream",
     "text": [
      "Results of ADF, PP and KPSS tests by column (p-values):\n",
      "\n",
      "btc_news_vader_score --                            ADF: \u001b[32m0.0000\u001b[0m,                            PP: \u001b[32m0.0000\u001b[0m,                              KPSS: \u001b[32m0.0916\u001b[0m\n",
      "btc_tweets_vader_score --                          ADF: \u001b[32m0.0000\u001b[0m,                            PP: \u001b[32m0.0000\u001b[0m,                              KPSS: \u001b[31m0.0001\u001b[0m\n",
      "btc_reddit_vader_score --                          ADF: \u001b[32m0.0000\u001b[0m,                            PP: \u001b[32m0.0000\u001b[0m,                              KPSS: \u001b[31m0.0073\u001b[0m\n",
      "btc_news_twitter_roberta_pretrained_score --       ADF: \u001b[32m0.0000\u001b[0m,                            PP: \u001b[32m0.0000\u001b[0m,                              KPSS: \u001b[31m0.0026\u001b[0m\n",
      "btc_tweets_twitter_roberta_pretrained_score --     ADF: \u001b[32m0.0000\u001b[0m,                            PP: \u001b[32m0.0000\u001b[0m,                              KPSS: \u001b[32m0.0617\u001b[0m\n",
      "btc_reddit_twitter_roberta_pretrained_score --     ADF: \u001b[32m0.0000\u001b[0m,                            PP: \u001b[32m0.0000\u001b[0m,                              KPSS: \u001b[31m0.0097\u001b[0m\n",
      "btc_news_bart_mnli_bullish_score --                ADF: \u001b[32m0.0000\u001b[0m,                            PP: \u001b[32m0.0000\u001b[0m,                              KPSS: \u001b[32m0.4441\u001b[0m\n",
      "btc_tweets_bart_mnli_bullish_score --              ADF: \u001b[32m0.0000\u001b[0m,                            PP: \u001b[32m0.0000\u001b[0m,                              KPSS: \u001b[32m0.0256\u001b[0m\n",
      "btc_reddit_bart_mnli_bullish_score --              ADF: \u001b[32m0.0000\u001b[0m,                            PP: \u001b[32m0.0000\u001b[0m,                              KPSS: \u001b[31m0.0053\u001b[0m\n",
      "btc_news_roberta_finetuned_score --                ADF: \u001b[32m0.0000\u001b[0m,                            PP: \u001b[32m0.0000\u001b[0m,                              KPSS: \u001b[32m0.0836\u001b[0m\n",
      "btc_tweets_roberta_finetuned_score --              ADF: \u001b[32m0.0000\u001b[0m,                            PP: \u001b[32m0.0000\u001b[0m,                              KPSS: \u001b[32m0.9405\u001b[0m\n",
      "btc_reddit_roberta_finetuned_score --              ADF: \u001b[32m0.0000\u001b[0m,                            PP: \u001b[32m0.0000\u001b[0m,                              KPSS: \u001b[32m0.4852\u001b[0m\n",
      "eth_news_vader_score --                            ADF: \u001b[32m0.0000\u001b[0m,                            PP: \u001b[32m0.0000\u001b[0m,                              KPSS: \u001b[32m0.0280\u001b[0m\n",
      "eth_tweets_vader_score --                          ADF: \u001b[32m0.0000\u001b[0m,                            PP: \u001b[32m0.0000\u001b[0m,                              KPSS: \u001b[32m0.2336\u001b[0m\n",
      "eth_reddit_vader_score --                          ADF: \u001b[32m0.0000\u001b[0m,                            PP: \u001b[32m0.0000\u001b[0m,                              KPSS: \u001b[31m0.0001\u001b[0m\n",
      "eth_news_twitter_roberta_pretrained_score --       ADF: \u001b[32m0.0000\u001b[0m,                            PP: \u001b[32m0.0000\u001b[0m,                              KPSS: \u001b[32m0.0200\u001b[0m\n",
      "eth_tweets_twitter_roberta_pretrained_score --     ADF: \u001b[31m0.0250\u001b[0m,                            PP: \u001b[32m0.0000\u001b[0m,                              KPSS: \u001b[31m0.0001\u001b[0m\n",
      "eth_reddit_twitter_roberta_pretrained_score --     ADF: \u001b[32m0.0002\u001b[0m,                            PP: \u001b[32m0.0000\u001b[0m,                              KPSS: \u001b[31m0.0035\u001b[0m\n",
      "eth_news_bart_mnli_bullish_score --                ADF: \u001b[32m0.0000\u001b[0m,                            PP: \u001b[32m0.0000\u001b[0m,                              KPSS: \u001b[31m0.0013\u001b[0m\n",
      "eth_tweets_bart_mnli_bullish_score --              ADF: \u001b[32m0.0000\u001b[0m,                            PP: \u001b[32m0.0000\u001b[0m,                              KPSS: \u001b[32m0.1214\u001b[0m\n",
      "eth_reddit_bart_mnli_bullish_score --              ADF: \u001b[32m0.0000\u001b[0m,                            PP: \u001b[32m0.0000\u001b[0m,                              KPSS: \u001b[31m0.0018\u001b[0m\n",
      "eth_news_roberta_finetuned_score --                ADF: \u001b[32m0.0000\u001b[0m,                            PP: \u001b[32m0.0000\u001b[0m,                              KPSS: \u001b[32m0.5261\u001b[0m\n",
      "eth_tweets_roberta_finetuned_score --              ADF: \u001b[32m0.0000\u001b[0m,                            PP: \u001b[32m0.0000\u001b[0m,                              KPSS: \u001b[32m0.8888\u001b[0m\n",
      "eth_reddit_roberta_finetuned_score --              ADF: \u001b[32m0.0000\u001b[0m,                            PP: \u001b[32m0.0000\u001b[0m,                              KPSS: \u001b[32m0.1678\u001b[0m\n",
      "btc_news_count --                                  ADF: \u001b[31m0.3908\u001b[0m,                            PP: \u001b[32m0.0000\u001b[0m,                              KPSS: \u001b[31m0.0001\u001b[0m\n",
      "btc_tweet_count --                                 ADF: \u001b[31m0.9832\u001b[0m,                            PP: \u001b[32m0.0000\u001b[0m,                              KPSS: \u001b[31m0.0001\u001b[0m\n",
      "btc_reddit_count --                                ADF: \u001b[32m0.0000\u001b[0m,                            PP: \u001b[32m0.0000\u001b[0m,                              KPSS: \u001b[32m0.2228\u001b[0m\n",
      "eth_news_count --                                  ADF: \u001b[31m0.1091\u001b[0m,                            PP: \u001b[32m0.0000\u001b[0m,                              KPSS: \u001b[31m0.0001\u001b[0m\n",
      "eth_tweet_count --                                 ADF: \u001b[31m0.9000\u001b[0m,                            PP: \u001b[31m0.1834\u001b[0m,                              KPSS: \u001b[31m0.0001\u001b[0m\n",
      "eth_reddit_count --                                ADF: \u001b[32m0.0007\u001b[0m,                            PP: \u001b[32m0.0000\u001b[0m,                              KPSS: \u001b[31m0.0087\u001b[0m\n"
     ]
    }
   ],
   "source": [
    "unit_root_testing(text_data, conf=0.01, tabsize=50)"
   ]
  },
  {
   "attachments": {},
   "cell_type": "markdown",
   "metadata": {},
   "source": [
    "### Log difference count data"
   ]
  },
  {
   "cell_type": "code",
   "execution_count": 12,
   "metadata": {},
   "outputs": [],
   "source": [
    "def log_difference_dataframe(df: pd.DataFrame):\n",
    "    ''' Returns dataframe where all variables differenced once. '''\n",
    "    \n",
    "    # create empty dataframe\n",
    "    df_differenced = pd.DataFrame(index=df.index)\n",
    "\n",
    "    # add first order log difference of all variables suffixed with '_d'\n",
    "    for column in [i for i in list(df.columns)]:\n",
    "        with np.errstate(divide='ignore', invalid='ignore'):\n",
    "            df_differenced[column + '_d'] = np.diff(np.log(df[column] + 0.01), prepend=float('nan'))\n",
    "\n",
    "    return df_differenced"
   ]
  },
  {
   "cell_type": "code",
   "execution_count": 13,
   "metadata": {},
   "outputs": [],
   "source": [
    "count_data_differenced = log_difference_dataframe(count_data)\n",
    "nlp_data_differenced = log_difference_dataframe(nlp_data)"
   ]
  },
  {
   "cell_type": "code",
   "execution_count": 14,
   "metadata": {},
   "outputs": [],
   "source": [
    "text_data_stationary = pd.concat([nlp_data, count_data_differenced], axis=1)\n",
    "text_data_fully_differenced = pd.concat([nlp_data_differenced, count_data_differenced], axis=1)"
   ]
  },
  {
   "attachments": {},
   "cell_type": "markdown",
   "metadata": {},
   "source": [
    "### Re-check stationarity"
   ]
  },
  {
   "cell_type": "code",
   "execution_count": 15,
   "metadata": {},
   "outputs": [
    {
     "name": "stdout",
     "output_type": "stream",
     "text": [
      "Results of White, Breusch-Pagan and Goldfeld-Quandt tests by column (p-values):\n",
      "\n",
      "btc_news_vader_score_d --                          White: \u001b[31m0.0000\u001b[0m,                          Breusch-Pagan: \u001b[31m0.0027\u001b[0m,                   Goldfeld-Quandt: \u001b[31m0.0010\u001b[0m\n",
      "btc_tweets_vader_score_d --                        White: \u001b[31m0.0000\u001b[0m,                          Breusch-Pagan: \u001b[31m0.0000\u001b[0m,                   Goldfeld-Quandt: \u001b[31m0.0000\u001b[0m\n",
      "btc_reddit_vader_score_d --                        White: \u001b[31m0.0000\u001b[0m,                          Breusch-Pagan: \u001b[31m0.0000\u001b[0m,                   Goldfeld-Quandt: \u001b[31m0.0000\u001b[0m\n",
      "btc_news_twitter_roberta_pretrained_score_d --     White: \u001b[31m0.0024\u001b[0m,                          Breusch-Pagan: \u001b[31m0.0008\u001b[0m,                   Goldfeld-Quandt: \u001b[31m0.0000\u001b[0m\n",
      "btc_tweets_twitter_roberta_pretrained_score_d --   White: \u001b[31m0.0000\u001b[0m,                          Breusch-Pagan: \u001b[31m0.0000\u001b[0m,                   Goldfeld-Quandt: \u001b[31m0.0000\u001b[0m\n",
      "btc_reddit_twitter_roberta_pretrained_score_d --   White: \u001b[32m0.0452\u001b[0m,                          Breusch-Pagan: \u001b[32m0.1060\u001b[0m,                   Goldfeld-Quandt: \u001b[31m0.0078\u001b[0m\n",
      "btc_news_bart_mnli_bullish_score_d --              White: \u001b[32m0.9401\u001b[0m,                          Breusch-Pagan: \u001b[32m0.7461\u001b[0m,                   Goldfeld-Quandt: \u001b[32m0.4599\u001b[0m\n",
      "btc_tweets_bart_mnli_bullish_score_d --            White: \u001b[31m0.0001\u001b[0m,                          Breusch-Pagan: \u001b[31m0.0000\u001b[0m,                   Goldfeld-Quandt: \u001b[31m0.0000\u001b[0m\n",
      "btc_reddit_bart_mnli_bullish_score_d --            White: \u001b[32m0.2764\u001b[0m,                          Breusch-Pagan: \u001b[32m0.9423\u001b[0m,                   Goldfeld-Quandt: \u001b[32m0.8635\u001b[0m\n",
      "btc_news_roberta_finetuned_score_d --              White: \u001b[31m0.0000\u001b[0m,                          Breusch-Pagan: \u001b[31m0.0000\u001b[0m,                   Goldfeld-Quandt: \u001b[31m0.0000\u001b[0m\n",
      "btc_tweets_roberta_finetuned_score_d --            White: \u001b[31m0.0000\u001b[0m,                          Breusch-Pagan: \u001b[31m0.0000\u001b[0m,                   Goldfeld-Quandt: \u001b[31m0.0000\u001b[0m\n",
      "btc_reddit_roberta_finetuned_score_d --            White: \u001b[31m0.0000\u001b[0m,                          Breusch-Pagan: \u001b[31m0.0000\u001b[0m,                   Goldfeld-Quandt: \u001b[31m0.0000\u001b[0m\n",
      "eth_news_vader_score_d --                          White: \u001b[32m0.1456\u001b[0m,                          Breusch-Pagan: \u001b[32m0.1001\u001b[0m,                   Goldfeld-Quandt: \u001b[31m0.0000\u001b[0m\n",
      "eth_tweets_vader_score_d --                        White: \u001b[31m0.0000\u001b[0m,                          Breusch-Pagan: \u001b[31m0.0000\u001b[0m,                   Goldfeld-Quandt: \u001b[31m0.0000\u001b[0m\n",
      "eth_reddit_vader_score_d --                        White: \u001b[32m0.4376\u001b[0m,                          Breusch-Pagan: \u001b[32m0.7995\u001b[0m,                   Goldfeld-Quandt: \u001b[31m0.0000\u001b[0m\n",
      "eth_news_twitter_roberta_pretrained_score_d --     White: \u001b[31m0.0003\u001b[0m,                          Breusch-Pagan: \u001b[31m0.0002\u001b[0m,                   Goldfeld-Quandt: \u001b[31m0.0000\u001b[0m\n",
      "eth_tweets_twitter_roberta_pretrained_score_d --   White: \u001b[31m0.0000\u001b[0m,                          Breusch-Pagan: \u001b[31m0.0000\u001b[0m,                   Goldfeld-Quandt: \u001b[31m0.0000\u001b[0m\n",
      "eth_reddit_twitter_roberta_pretrained_score_d --   White: \u001b[31m0.0000\u001b[0m,                          Breusch-Pagan: \u001b[31m0.0018\u001b[0m,                   Goldfeld-Quandt: \u001b[31m0.0000\u001b[0m\n",
      "eth_news_bart_mnli_bullish_score_d --              White: \u001b[32m0.4105\u001b[0m,                          Breusch-Pagan: \u001b[32m0.1853\u001b[0m,                   Goldfeld-Quandt: \u001b[32m0.0159\u001b[0m\n",
      "eth_tweets_bart_mnli_bullish_score_d --            White: \u001b[32m0.7328\u001b[0m,                          Breusch-Pagan: \u001b[32m0.9498\u001b[0m,                   Goldfeld-Quandt: \u001b[32m0.8187\u001b[0m\n",
      "eth_reddit_bart_mnli_bullish_score_d --            White: \u001b[32m0.0309\u001b[0m,                          Breusch-Pagan: \u001b[32m0.4355\u001b[0m,                   Goldfeld-Quandt: \u001b[32m0.8504\u001b[0m\n",
      "eth_news_roberta_finetuned_score_d --              White: \u001b[31m0.0000\u001b[0m,                          Breusch-Pagan: \u001b[31m0.0000\u001b[0m,                   Goldfeld-Quandt: \u001b[31m0.0000\u001b[0m\n",
      "eth_tweets_roberta_finetuned_score_d --            White: \u001b[31m0.0000\u001b[0m,                          Breusch-Pagan: \u001b[31m0.0000\u001b[0m,                   Goldfeld-Quandt: \u001b[31m0.0000\u001b[0m\n",
      "eth_reddit_roberta_finetuned_score_d --            White: \u001b[31m0.0000\u001b[0m,                          Breusch-Pagan: \u001b[31m0.0000\u001b[0m,                   Goldfeld-Quandt: \u001b[31m0.0000\u001b[0m\n",
      "btc_news_count_d --                                White: \u001b[32m0.6036\u001b[0m,                          Breusch-Pagan: \u001b[32m0.7329\u001b[0m,                   Goldfeld-Quandt: \u001b[32m0.5260\u001b[0m\n",
      "btc_tweet_count_d --                               White: \u001b[31m0.0000\u001b[0m,                          Breusch-Pagan: \u001b[31m0.0000\u001b[0m,                   Goldfeld-Quandt: \u001b[31m0.0000\u001b[0m\n",
      "btc_reddit_count_d --                              White: \u001b[31m0.0000\u001b[0m,                          Breusch-Pagan: \u001b[31m0.0000\u001b[0m,                   Goldfeld-Quandt: \u001b[31m0.0000\u001b[0m\n",
      "eth_news_count_d --                                White: \u001b[32m0.8628\u001b[0m,                          Breusch-Pagan: \u001b[32m0.7763\u001b[0m,                   Goldfeld-Quandt: \u001b[32m0.4435\u001b[0m\n",
      "eth_tweet_count_d --                               White: \u001b[31m0.0000\u001b[0m,                          Breusch-Pagan: \u001b[31m0.0000\u001b[0m,                   Goldfeld-Quandt: \u001b[31m0.0000\u001b[0m\n",
      "eth_reddit_count_d --                              White: \u001b[31m0.0000\u001b[0m,                          Breusch-Pagan: \u001b[32m0.0145\u001b[0m,                   Goldfeld-Quandt: \u001b[31m0.0013\u001b[0m\n"
     ]
    }
   ],
   "source": [
    "HeskedTesting.run_all_tests(text_data_fully_differenced, conf=0.01, tabsize=50)"
   ]
  },
  {
   "cell_type": "code",
   "execution_count": 16,
   "metadata": {},
   "outputs": [
    {
     "name": "stdout",
     "output_type": "stream",
     "text": [
      "Results of ADF, PP and KPSS tests by column (p-values):\n",
      "\n",
      "btc_news_vader_score_d --                          ADF: \u001b[32m0.0000\u001b[0m,                            PP: \u001b[32m0.0000\u001b[0m,                              KPSS: \u001b[32m0.3959\u001b[0m\n",
      "btc_tweets_vader_score_d --                        ADF: \u001b[32m0.0000\u001b[0m,                            PP: \u001b[32m0.0000\u001b[0m,                              KPSS: \u001b[32m0.8614\u001b[0m\n",
      "btc_reddit_vader_score_d --                        ADF: \u001b[32m0.0000\u001b[0m,                            PP: \u001b[32m0.0000\u001b[0m,                              KPSS: \u001b[32m0.2464\u001b[0m\n",
      "btc_news_twitter_roberta_pretrained_score_d --     ADF: \u001b[32m0.0000\u001b[0m,                            PP: \u001b[32m0.0000\u001b[0m,                              KPSS: \u001b[32m0.0894\u001b[0m\n",
      "btc_tweets_twitter_roberta_pretrained_score_d --   ADF: \u001b[32m0.0000\u001b[0m,                            PP: \u001b[32m0.0000\u001b[0m,                              KPSS: \u001b[32m0.7064\u001b[0m\n",
      "btc_reddit_twitter_roberta_pretrained_score_d --   ADF: \u001b[32m0.0000\u001b[0m,                            PP: \u001b[32m0.0000\u001b[0m,                              KPSS: \u001b[32m0.0722\u001b[0m\n",
      "btc_news_bart_mnli_bullish_score_d --              ADF: \u001b[32m0.0000\u001b[0m,                            PP: \u001b[32m0.0000\u001b[0m,                              KPSS: \u001b[32m0.8045\u001b[0m\n",
      "btc_tweets_bart_mnli_bullish_score_d --            ADF: \u001b[32m0.0000\u001b[0m,                            PP: \u001b[32m0.0000\u001b[0m,                              KPSS: \u001b[32m0.3548\u001b[0m\n",
      "btc_reddit_bart_mnli_bullish_score_d --            ADF: \u001b[32m0.0000\u001b[0m,                            PP: \u001b[32m0.0000\u001b[0m,                              KPSS: \u001b[32m0.8300\u001b[0m\n",
      "btc_news_roberta_finetuned_score_d --              ADF: \u001b[32m0.0000\u001b[0m,                            PP: \u001b[32m0.0000\u001b[0m,                              KPSS: \u001b[32m0.1431\u001b[0m\n",
      "btc_tweets_roberta_finetuned_score_d --            ADF: \u001b[32m0.0000\u001b[0m,                            PP: \u001b[32m0.0000\u001b[0m,                              KPSS: \u001b[36mInfeasibleTestException\u001b[0m\n",
      "btc_reddit_roberta_finetuned_score_d --            ADF: \u001b[32m0.0000\u001b[0m,                            PP: \u001b[32m0.0000\u001b[0m,                              KPSS: \u001b[32m0.9651\u001b[0m\n",
      "eth_news_vader_score_d --                          ADF: \u001b[32m0.0000\u001b[0m,                            PP: \u001b[32m0.0000\u001b[0m,                              KPSS: \u001b[32m0.6769\u001b[0m\n",
      "eth_tweets_vader_score_d --                        ADF: \u001b[32m0.0000\u001b[0m,                            PP: \u001b[32m0.0000\u001b[0m,                              KPSS: \u001b[32m0.2014\u001b[0m\n",
      "eth_reddit_vader_score_d --                        ADF: \u001b[32m0.0000\u001b[0m,                            PP: \u001b[32m0.0000\u001b[0m,                              KPSS: \u001b[32m0.3737\u001b[0m\n",
      "eth_news_twitter_roberta_pretrained_score_d --     ADF: \u001b[32m0.0000\u001b[0m,                            PP: \u001b[32m0.0000\u001b[0m,                              KPSS: \u001b[32m0.3643\u001b[0m\n",
      "eth_tweets_twitter_roberta_pretrained_score_d --   ADF: \u001b[32m0.0000\u001b[0m,                            PP: \u001b[32m0.0000\u001b[0m,                              KPSS: \u001b[32m0.6217\u001b[0m\n",
      "eth_reddit_twitter_roberta_pretrained_score_d --   ADF: \u001b[32m0.0000\u001b[0m,                            PP: \u001b[32m0.0000\u001b[0m,                              KPSS: \u001b[32m0.9170\u001b[0m\n",
      "eth_news_bart_mnli_bullish_score_d --              ADF: \u001b[32m0.0000\u001b[0m,                            PP: \u001b[32m0.0000\u001b[0m,                              KPSS: \u001b[32m0.2255\u001b[0m\n",
      "eth_tweets_bart_mnli_bullish_score_d --            ADF: \u001b[32m0.0000\u001b[0m,                            PP: \u001b[32m0.0000\u001b[0m,                              KPSS: \u001b[32m0.2341\u001b[0m\n",
      "eth_reddit_bart_mnli_bullish_score_d --            ADF: \u001b[32m0.0000\u001b[0m,                            PP: \u001b[32m0.0000\u001b[0m,                              KPSS: \u001b[32m0.4147\u001b[0m\n",
      "eth_news_roberta_finetuned_score_d --              ADF: \u001b[32m0.0000\u001b[0m,                            PP: \u001b[32m0.0000\u001b[0m,                              KPSS: \u001b[32m0.8024\u001b[0m\n",
      "eth_tweets_roberta_finetuned_score_d --            ADF: \u001b[32m0.0000\u001b[0m,                            PP: \u001b[32m0.0000\u001b[0m,                              KPSS: \u001b[32m0.9951\u001b[0m\n",
      "eth_reddit_roberta_finetuned_score_d --            ADF: \u001b[32m0.0000\u001b[0m,                            PP: \u001b[32m0.0000\u001b[0m,                              KPSS: \u001b[32m0.3658\u001b[0m\n",
      "btc_news_count_d --                                ADF: \u001b[32m0.0000\u001b[0m,                            PP: \u001b[32m0.0000\u001b[0m,                              KPSS: \u001b[36mInfeasibleTestException\u001b[0m\n",
      "btc_tweet_count_d --                               ADF: \u001b[32m0.0000\u001b[0m,                            PP: \u001b[32m0.0000\u001b[0m,                              KPSS: \u001b[36mInfeasibleTestException\u001b[0m\n",
      "btc_reddit_count_d --                              ADF: \u001b[32m0.0000\u001b[0m,                            PP: \u001b[32m0.0000\u001b[0m,                              KPSS: \u001b[36mInfeasibleTestException\u001b[0m\n",
      "eth_news_count_d --                                ADF: \u001b[32m0.0000\u001b[0m,                            PP: \u001b[32m0.0000\u001b[0m,                              KPSS: \u001b[36mInfeasibleTestException\u001b[0m\n",
      "eth_tweet_count_d --                               ADF: \u001b[32m0.0000\u001b[0m,                            PP: \u001b[32m0.0000\u001b[0m,                              KPSS: \u001b[36mInfeasibleTestException\u001b[0m\n",
      "eth_reddit_count_d --                              ADF: \u001b[32m0.0000\u001b[0m,                            PP: \u001b[32m0.0000\u001b[0m,                              KPSS: \u001b[32m0.2246\u001b[0m\n"
     ]
    }
   ],
   "source": [
    "unit_root_testing(text_data_fully_differenced, conf=0.01, tabsize=50)"
   ]
  },
  {
   "attachments": {},
   "cell_type": "markdown",
   "metadata": {},
   "source": [
    "### Save data"
   ]
  },
  {
   "cell_type": "code",
   "execution_count": 17,
   "metadata": {},
   "outputs": [],
   "source": [
    "btc_raw_text_data = text_data[[col for col in text_data if col.startswith('btc')]]\n",
    "eth_raw_text_data = text_data[[col for col in text_data if col.startswith('eth')]]\n",
    "\n",
    "btc_stationary_text_data = text_data_stationary[[col for col in text_data_stationary if col.startswith('btc')]]\n",
    "eth_stationary_text_data = text_data_stationary[[col for col in text_data_stationary if col.startswith('eth')]]\n",
    "\n",
    "btc_fully_differenced_text_data = text_data_fully_differenced[[col for col in text_data_fully_differenced if col.startswith('btc')]]\n",
    "eth_fully_differenced_text_data = text_data_fully_differenced[[col for col in text_data_fully_differenced if col.startswith('eth')]]"
   ]
  },
  {
   "cell_type": "code",
   "execution_count": 18,
   "metadata": {},
   "outputs": [],
   "source": [
    "btc_raw_text_data.to_parquet('btc_raw_text_data.parquet.gzip', compression='gzip')\n",
    "eth_raw_text_data.to_parquet('eth_raw_text_data.parquet.gzip', compression='gzip')\n",
    "\n",
    "btc_stationary_text_data.to_parquet('btc_stationary_text_data.parquet.gzip', compression='gzip')\n",
    "eth_stationary_text_data.to_parquet('eth_stationary_text_data.parquet.gzip', compression='gzip')\n",
    "\n",
    "btc_fully_differenced_text_data.to_parquet('btc_fully_differenced_text_data.parquet.gzip', compression='gzip')\n",
    "eth_fully_differenced_text_data.to_parquet('eth_fully_differenced_text_data.parquet.gzip', compression='gzip')"
   ]
  }
 ],
 "metadata": {
  "kernelspec": {
   "display_name": ".tsf-env",
   "language": "python",
   "name": "python3"
  },
  "language_info": {
   "codemirror_mode": {
    "name": "ipython",
    "version": 3
   },
   "file_extension": ".py",
   "mimetype": "text/x-python",
   "name": "python",
   "nbconvert_exporter": "python",
   "pygments_lexer": "ipython3",
   "version": "3.9.14"
  },
  "orig_nbformat": 4
 },
 "nbformat": 4,
 "nbformat_minor": 2
}
