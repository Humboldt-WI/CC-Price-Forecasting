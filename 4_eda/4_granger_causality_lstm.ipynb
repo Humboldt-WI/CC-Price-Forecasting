{
 "cells": [
  {
   "attachments": {},
   "cell_type": "markdown",
   "metadata": {},
   "source": [
    "# Granger causality analysis for LSTM\n",
    "\n",
    "For the LSTM all lags up to a certain maxlag have to be considered, so instead of determining Granger causality for each lag individually, we only look at the entire $n$ lags."
   ]
  },
  {
   "cell_type": "code",
   "execution_count": null,
   "metadata": {},
   "outputs": [],
   "source": [
    "import os \n",
    "import numpy as np\n",
    "import pandas as pd\n",
    "import matplotlib.pyplot as plt\n",
    "import seaborn as sns\n",
    "\n",
    "from granger_causality_functions import get_relevant_lags"
   ]
  },
  {
   "cell_type": "code",
   "execution_count": null,
   "metadata": {},
   "outputs": [],
   "source": [
    "conf_level = 0.05"
   ]
  },
  {
   "attachments": {},
   "cell_type": "markdown",
   "metadata": {},
   "source": [
    "## Bitcoin data"
   ]
  },
  {
   "cell_type": "code",
   "execution_count": null,
   "metadata": {},
   "outputs": [],
   "source": [
    "btc_numeric_data = pd.read_parquet('../2_data_processing/numeric_data/btc_numeric_stationary_data.parquet.gzip')\n",
    "btc_nlp_data = pd.read_parquet('../3_nlp_models/4_processing/btc_stationary_text_data.parquet.gzip')\n",
    "btc_targets = pd.read_parquet('../2_data_processing/numeric_data/btc_targets.parquet.gzip')"
   ]
  },
  {
   "attachments": {},
   "cell_type": "markdown",
   "metadata": {},
   "source": [
    "### Crop data\n",
    "\n",
    "Remove first and last couple of days where data is inconsistent."
   ]
  },
  {
   "cell_type": "code",
   "execution_count": null,
   "metadata": {},
   "outputs": [],
   "source": [
    "btc_data = pd.concat([btc_numeric_data, btc_nlp_data], axis=1).loc[1314662400:1678752000]\n",
    "btc_data_filled = btc_data.fillna(method='ffill').fillna(0).replace([np.inf, -np.inf], 0)"
   ]
  },
  {
   "attachments": {},
   "cell_type": "markdown",
   "metadata": {},
   "source": [
    "### Determine relevant lags"
   ]
  },
  {
   "cell_type": "code",
   "execution_count": 6,
   "metadata": {},
   "outputs": [
    {
     "name": "stderr",
     "output_type": "stream",
     "text": [
      "100%|██████████| 138/138 [00:22<00:00,  6.02it/s]\n",
      "100%|██████████| 138/138 [00:24<00:00,  5.71it/s]\n",
      "100%|██████████| 138/138 [00:18<00:00,  7.40it/s]\n",
      "100%|██████████| 138/138 [00:17<00:00,  7.80it/s]\n",
      "100%|██████████| 138/138 [00:17<00:00,  7.78it/s]\n",
      "100%|██████████| 138/138 [00:17<00:00,  7.93it/s]\n",
      "100%|██████████| 138/138 [00:17<00:00,  7.79it/s]\n"
     ]
    }
   ],
   "source": [
    "directory = './btc_lstm_causality/'\n",
    "if not os.path.exists(directory):\n",
    "    os.makedirs(directory)\n",
    "    \n",
    "for target in btc_targets.columns:\n",
    "    data = pd.concat([btc_data_filled, btc_targets[target]], axis=1)\n",
    "    lags = get_relevant_lags(data, target, maxlag=14, conf=conf_level)\n",
    "    vars = [i for i in lags.variable if (13 in lags.relevant_lags)]\n",
    "    with open(directory + target + '_causality.txt', 'w') as f:\n",
    "        f.write('\\n'.join(np.sort(vars)))"
   ]
  },
  {
   "attachments": {},
   "cell_type": "markdown",
   "metadata": {},
   "source": [
    "## Ethereum data"
   ]
  },
  {
   "cell_type": "code",
   "execution_count": 7,
   "metadata": {},
   "outputs": [],
   "source": [
    "eth_numeric_data = pd.read_parquet('../2_data_processing/numeric_data/eth_numeric_stationary_data.parquet.gzip')\n",
    "eth_nlp_data = pd.read_parquet('../3_nlp_models/4_processing/eth_stationary_text_data.parquet.gzip')\n",
    "eth_targets = pd.read_parquet('../2_data_processing/numeric_data/eth_targets.parquet.gzip')"
   ]
  },
  {
   "attachments": {},
   "cell_type": "markdown",
   "metadata": {},
   "source": [
    "### Crop data\n",
    "\n",
    "Remove first and last couple of days where data is inconsistent."
   ]
  },
  {
   "cell_type": "code",
   "execution_count": 35,
   "metadata": {},
   "outputs": [],
   "source": [
    "eth_data = pd.concat([eth_numeric_data, eth_nlp_data], axis=1).loc[1445472000:1678838400]\n",
    "eth_data_filled = eth_data.fillna(method='ffill').fillna(0).replace([np.inf, -np.inf], 0)"
   ]
  },
  {
   "attachments": {},
   "cell_type": "markdown",
   "metadata": {},
   "source": [
    "### Determine relevant lags"
   ]
  },
  {
   "cell_type": "code",
   "execution_count": 38,
   "metadata": {},
   "outputs": [
    {
     "name": "stderr",
     "output_type": "stream",
     "text": [
      "100%|██████████| 116/116 [00:10<00:00, 10.76it/s]\n",
      "100%|██████████| 116/116 [00:10<00:00, 11.43it/s]\n",
      "100%|██████████| 116/116 [00:09<00:00, 11.92it/s]\n",
      "100%|██████████| 116/116 [00:09<00:00, 12.18it/s]\n",
      "100%|██████████| 116/116 [00:12<00:00,  8.93it/s]\n",
      "100%|██████████| 116/116 [00:16<00:00,  7.10it/s]\n",
      "100%|██████████| 116/116 [00:13<00:00,  8.45it/s]\n"
     ]
    }
   ],
   "source": [
    "directory = './eth_lstm_causality/'\n",
    "if not os.path.exists(directory):\n",
    "    os.makedirs(directory)\n",
    "    \n",
    "for target in eth_targets.columns:\n",
    "    data = pd.concat([eth_data_filled, eth_targets[target]], axis=1)\n",
    "    lags = get_relevant_lags(data, target, maxlag=14, conf=conf_level)\n",
    "    vars = [i for i in lags.variable if (13 in lags.relevant_lags)]\n",
    "    with open(directory + target + '_causality.txt', 'w') as f:\n",
    "        f.write('\\n'.join(np.sort(vars)))"
   ]
  }
 ],
 "metadata": {
  "kernelspec": {
   "display_name": ".tsf-env",
   "language": "python",
   "name": "python3"
  },
  "language_info": {
   "codemirror_mode": {
    "name": "ipython",
    "version": 3
   },
   "file_extension": ".py",
   "mimetype": "text/x-python",
   "name": "python",
   "nbconvert_exporter": "python",
   "pygments_lexer": "ipython3",
   "version": "3.9.14"
  },
  "orig_nbformat": 4
 },
 "nbformat": 4,
 "nbformat_minor": 2
}
