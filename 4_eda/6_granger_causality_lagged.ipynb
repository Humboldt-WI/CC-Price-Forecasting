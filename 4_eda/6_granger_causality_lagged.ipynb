{
 "cells": [
  {
   "attachments": {},
   "cell_type": "markdown",
   "metadata": {},
   "source": [
    "# Granger causality analysis for each lag individually"
   ]
  },
  {
   "cell_type": "code",
   "execution_count": 1,
   "metadata": {},
   "outputs": [],
   "source": [
    "import os\n",
    "import numpy as np\n",
    "import pandas as pd\n",
    "from granger_causality_functions import individual_granger_causality"
   ]
  },
  {
   "cell_type": "code",
   "execution_count": 2,
   "metadata": {},
   "outputs": [],
   "source": [
    "conf_level = 0.05"
   ]
  },
  {
   "attachments": {},
   "cell_type": "markdown",
   "metadata": {},
   "source": [
    "### BTC data"
   ]
  },
  {
   "cell_type": "code",
   "execution_count": 3,
   "metadata": {},
   "outputs": [],
   "source": [
    "btc_lagged = pd.read_parquet('./btc_stationary_data_lagged.parquet.gzip')\n",
    "btc_lagged.columns = btc_lagged.columns.map('_'.join)\n",
    "btc_lagged = btc_lagged.fillna(method='ffill').fillna(0).replace([np.inf, -np.inf], 0)\n",
    "btc_targets = pd.read_parquet('../2_data_processing/numeric_data/btc_targets_unshifted.parquet.gzip')"
   ]
  },
  {
   "cell_type": "code",
   "execution_count": 4,
   "metadata": {},
   "outputs": [
    {
     "name": "stderr",
     "output_type": "stream",
     "text": [
      "100%|██████████| 1961/1961 [00:09<00:00, 199.12it/s]\n",
      "100%|██████████| 1961/1961 [00:08<00:00, 219.10it/s]\n",
      "100%|██████████| 1961/1961 [00:08<00:00, 228.34it/s]\n",
      "100%|██████████| 1961/1961 [00:08<00:00, 219.98it/s]\n",
      "100%|██████████| 1961/1961 [00:08<00:00, 237.53it/s]\n",
      "100%|██████████| 1961/1961 [00:08<00:00, 229.46it/s]\n",
      "100%|██████████| 1961/1961 [00:09<00:00, 204.14it/s]\n"
     ]
    }
   ],
   "source": [
    "directory = './btc_causality/'\n",
    "if not os.path.exists(directory):\n",
    "    os.makedirs(directory)\n",
    "    \n",
    "for target in btc_targets.columns:\n",
    "    data = pd.concat([btc_lagged, btc_targets[target]], axis=1)\n",
    "    causality = individual_granger_causality(data, target, conf=conf_level)\n",
    "    with open(directory + target + '_causality.txt', 'w') as f:\n",
    "        f.write('\\n'.join(np.sort(causality.variable.values)))"
   ]
  },
  {
   "attachments": {},
   "cell_type": "markdown",
   "metadata": {},
   "source": [
    "### ETH data"
   ]
  },
  {
   "cell_type": "code",
   "execution_count": 5,
   "metadata": {},
   "outputs": [],
   "source": [
    "eth_lagged = pd.read_parquet('./eth_stationary_data_lagged.parquet.gzip')\n",
    "eth_lagged.columns = eth_lagged.columns.map('_'.join)\n",
    "eth_lagged = eth_lagged.fillna(method='ffill').fillna(0).replace([np.inf, -np.inf], 0)\n",
    "eth_targets = pd.read_parquet('../2_data_processing/numeric_data/eth_targets_unshifted.parquet.gzip')"
   ]
  },
  {
   "cell_type": "code",
   "execution_count": 6,
   "metadata": {},
   "outputs": [
    {
     "name": "stderr",
     "output_type": "stream",
     "text": [
      "100%|██████████| 1653/1653 [00:02<00:00, 658.25it/s]\n",
      "100%|██████████| 1653/1653 [00:02<00:00, 649.65it/s]\n",
      "100%|██████████| 1653/1653 [00:02<00:00, 650.02it/s]\n",
      "100%|██████████| 1653/1653 [00:02<00:00, 649.61it/s]\n",
      "100%|██████████| 1653/1653 [00:02<00:00, 644.41it/s]\n",
      "100%|██████████| 1653/1653 [00:02<00:00, 654.45it/s]\n",
      "100%|██████████| 1653/1653 [00:02<00:00, 650.08it/s]\n"
     ]
    }
   ],
   "source": [
    "directory = './eth_causality/'\n",
    "if not os.path.exists(directory):\n",
    "    os.makedirs(directory)\n",
    "    \n",
    "for target in eth_targets.columns:\n",
    "    data = pd.concat([eth_lagged, eth_targets[target]], axis=1)\n",
    "    causality = individual_granger_causality(data, target, conf=conf_level)\n",
    "    with open(directory + target + '_causality.txt', 'w') as f:\n",
    "        f.write('\\n'.join(np.sort(causality.variable.values)))"
   ]
  }
 ],
 "metadata": {
  "kernelspec": {
   "display_name": ".tsf-env",
   "language": "python",
   "name": "python3"
  },
  "language_info": {
   "codemirror_mode": {
    "name": "ipython",
    "version": 3
   },
   "file_extension": ".py",
   "mimetype": "text/x-python",
   "name": "python",
   "nbconvert_exporter": "python",
   "pygments_lexer": "ipython3",
   "version": "3.9.14"
  },
  "orig_nbformat": 4
 },
 "nbformat": 4,
 "nbformat_minor": 2
}
