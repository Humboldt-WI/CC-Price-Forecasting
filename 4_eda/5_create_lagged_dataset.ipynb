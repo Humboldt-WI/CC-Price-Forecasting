{
 "cells": [
  {
   "cell_type": "code",
   "execution_count": 1,
   "metadata": {},
   "outputs": [],
   "source": [
    "import pandas as pd\n",
    "import numpy as np\n",
    "from lag_functions import shift_timeseries_by_lags"
   ]
  },
  {
   "attachments": {},
   "cell_type": "markdown",
   "metadata": {},
   "source": [
    "## BTC data"
   ]
  },
  {
   "cell_type": "code",
   "execution_count": 2,
   "metadata": {},
   "outputs": [],
   "source": [
    "btc_numeric_data = pd.read_parquet('../2_data_processing/numeric_data/btc_numeric_data.parquet.gzip')\n",
    "btc_stationary_numeric_data = pd.read_parquet('../2_data_processing/numeric_data/btc_numeric_stationary_data.parquet.gzip')\n",
    "btc_stationary_text_data = pd.read_parquet('../3_nlp_models/4_processing/btc_stationary_text_data.parquet.gzip')\n",
    "btc_raw_text_data = pd.read_parquet('../3_nlp_models/4_processing/btc_raw_text_data.parquet.gzip')"
   ]
  },
  {
   "cell_type": "code",
   "execution_count": 3,
   "metadata": {},
   "outputs": [],
   "source": [
    "btc_data = pd.concat([btc_numeric_data, btc_raw_text_data], axis=1).loc[1314662400:1678752000]\n",
    "btc_stationary_data = pd.concat([btc_stationary_numeric_data, btc_stationary_text_data], axis=1).loc[1314662400:1678752000]"
   ]
  },
  {
   "cell_type": "code",
   "execution_count": 4,
   "metadata": {},
   "outputs": [],
   "source": [
    "(shift_timeseries_by_lags(btc_data, np.arange(0, 14))\n",
    " .to_parquet('btc_data_lagged.parquet.gzip', compression='gzip'))"
   ]
  },
  {
   "cell_type": "code",
   "execution_count": 5,
   "metadata": {},
   "outputs": [],
   "source": [
    "(shift_timeseries_by_lags(btc_stationary_data, np.arange(0, 14))\n",
    " .to_parquet('btc_stationary_data_lagged.parquet.gzip', compression='gzip'))"
   ]
  },
  {
   "attachments": {},
   "cell_type": "markdown",
   "metadata": {},
   "source": [
    "## ETH data"
   ]
  },
  {
   "cell_type": "code",
   "execution_count": 6,
   "metadata": {},
   "outputs": [],
   "source": [
    "eth_numeric_data = pd.read_parquet('../2_data_processing/numeric_data/eth_numeric_data.parquet.gzip')\n",
    "eth_stationary_numeric_data = pd.read_parquet('../2_data_processing/numeric_data/eth_numeric_stationary_data.parquet.gzip')\n",
    "eth_stationary_text_data = pd.read_parquet('../3_nlp_models/4_processing/eth_stationary_text_data.parquet.gzip')\n",
    "eth_raw_text_data = pd.read_parquet('../3_nlp_models/4_processing/eth_raw_text_data.parquet.gzip')"
   ]
  },
  {
   "cell_type": "code",
   "execution_count": 7,
   "metadata": {},
   "outputs": [],
   "source": [
    "eth_data = pd.concat([eth_numeric_data, eth_raw_text_data], axis=1).loc[1445472000:1678838400]\n",
    "eth_stationary_data = pd.concat([eth_stationary_numeric_data, eth_stationary_text_data], axis=1).loc[1445472000:1678838400]"
   ]
  },
  {
   "cell_type": "code",
   "execution_count": 8,
   "metadata": {},
   "outputs": [],
   "source": [
    "(shift_timeseries_by_lags(eth_data, np.arange(0, 14))\n",
    " .to_parquet('eth_data_lagged.parquet.gzip', compression='gzip'))"
   ]
  },
  {
   "cell_type": "code",
   "execution_count": 9,
   "metadata": {},
   "outputs": [],
   "source": [
    "(shift_timeseries_by_lags(eth_stationary_data, np.arange(0, 14))\n",
    " .to_parquet('eth_stationary_data_lagged.parquet.gzip', compression='gzip'))"
   ]
  }
 ],
 "metadata": {
  "kernelspec": {
   "display_name": ".tsf-env",
   "language": "python",
   "name": "python3"
  },
  "language_info": {
   "codemirror_mode": {
    "name": "ipython",
    "version": 3
   },
   "file_extension": ".py",
   "mimetype": "text/x-python",
   "name": "python",
   "nbconvert_exporter": "python",
   "pygments_lexer": "ipython3",
   "version": "3.9.14"
  },
  "orig_nbformat": 4
 },
 "nbformat": 4,
 "nbformat_minor": 2
}
