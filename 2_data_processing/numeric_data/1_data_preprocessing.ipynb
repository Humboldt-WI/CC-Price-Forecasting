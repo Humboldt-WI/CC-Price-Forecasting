{
 "cells": [
  {
   "attachments": {},
   "cell_type": "markdown",
   "metadata": {},
   "source": [
    "## Preprocessing and concatenating numeric data"
   ]
  },
  {
   "cell_type": "code",
   "execution_count": 39,
   "metadata": {},
   "outputs": [],
   "source": [
    "import pandas as pd\n",
    "import pytz\n",
    "\n",
    "from datetime import datetime\n",
    "from functools import reduce\n",
    "\n",
    "from functions import ffill_nans"
   ]
  },
  {
   "attachments": {},
   "cell_type": "markdown",
   "metadata": {},
   "source": [
    "<br>\n",
    "\n",
    "### CoinGecko"
   ]
  },
  {
   "cell_type": "code",
   "execution_count": 40,
   "metadata": {},
   "outputs": [],
   "source": [
    "gecko_btc_data = pd.read_parquet('../../1_data_acquisition/coin_gecko/gecko_btc_data.parquet.gzip')\n",
    "gecko_eth_data = pd.read_parquet('../../1_data_acquisition/coin_gecko/gecko_eth_data.parquet.gzip')"
   ]
  },
  {
   "attachments": {},
   "cell_type": "markdown",
   "metadata": {},
   "source": [
    "Transform timestamp to UTC"
   ]
  },
  {
   "cell_type": "code",
   "execution_count": 41,
   "metadata": {},
   "outputs": [],
   "source": [
    "for df in [gecko_btc_data, gecko_eth_data]:\n",
    "    df['timestamp'] = [datetime.strptime(datetime.fromtimestamp(i).date().strftime('%Y-%m-%d')+'+00:00', '%Y-%m-%d%z').timestamp() for i in df.index]"
   ]
  },
  {
   "cell_type": "code",
   "execution_count": 42,
   "metadata": {},
   "outputs": [],
   "source": [
    "gecko_btc_data = gecko_btc_data.set_index('timestamp')\n",
    "gecko_eth_data = gecko_eth_data.set_index('timestamp')"
   ]
  },
  {
   "attachments": {},
   "cell_type": "markdown",
   "metadata": {},
   "source": [
    "Drop columns\n",
    "\n",
    "> Among others the price is dropped. CryptoCompare price is used as target instead of CoinGecko price. Reason is slightly longer timeframe of historical data (couple months) and better methodology (CCCAGG). Downside is that CoinGecko uses data from 639 exchanges and CryptoCompare only from 301. Nevertheless the average difference between the two price calculations is 0.38 %, so the choice has no big impact on the analysis "
   ]
  },
  {
   "cell_type": "code",
   "execution_count": 43,
   "metadata": {},
   "outputs": [],
   "source": [
    "gecko_btc_data = gecko_btc_data.drop(columns=[\n",
    "    'btc_current_price',\n",
    "    'btc_market_cap',\n",
    "    'btc_reddit_average_posts_48h',\n",
    "    'btc_reddit_average_comments_48h',\n",
    "    'btc_facebook_likes',\n",
    "])\n",
    "\n",
    "gecko_eth_data = gecko_eth_data.drop(columns=[\n",
    "    'eth_current_price',\n",
    "    'eth_market_cap',\n",
    "    'eth_reddit_average_posts_48h',\n",
    "    'eth_reddit_average_comments_48h',\n",
    "    'eth_facebook_likes',\n",
    "])\n"
   ]
  },
  {
   "attachments": {},
   "cell_type": "markdown",
   "metadata": {},
   "source": [
    "Invert deletions since they're all negative numbers"
   ]
  },
  {
   "cell_type": "code",
   "execution_count": 44,
   "metadata": {},
   "outputs": [],
   "source": [
    "gecko_btc_data['btc_deletions'] = -gecko_btc_data['btc_deletions']\n",
    "gecko_eth_data['eth_deletions'] = -gecko_eth_data['eth_deletions']"
   ]
  },
  {
   "attachments": {},
   "cell_type": "markdown",
   "metadata": {},
   "source": [
    "Deal with zeros"
   ]
  },
  {
   "cell_type": "code",
   "execution_count": 45,
   "metadata": {},
   "outputs": [],
   "source": [
    "for column in ['total_issues', 'closed_issues', 'total_volume']:\n",
    "    gecko_btc_data['btc_' + column] = gecko_btc_data['btc_' + column].replace(0, float('nan'))\n",
    "    gecko_eth_data['eth_' + column] = gecko_eth_data['eth_' + column].replace(0, float('nan'))"
   ]
  },
  {
   "attachments": {},
   "cell_type": "markdown",
   "metadata": {},
   "source": [
    "Impute nans with the previous value"
   ]
  },
  {
   "cell_type": "code",
   "execution_count": 46,
   "metadata": {},
   "outputs": [],
   "source": [
    "btc_exclude_cols = [\n",
    "    'btc_total_issues',\n",
    "    'btc_closed_issues',\n",
    "]\n",
    "\n",
    "eth_exclude_cols = [\n",
    "    'eth_total_issues',\n",
    "    'eth_closed_issues',\n",
    "]\n",
    "\n",
    "gecko_btc_data = ffill_nans(gecko_btc_data, exclude_cols=btc_exclude_cols)\n",
    "gecko_eth_data = ffill_nans(gecko_eth_data, exclude_cols=eth_exclude_cols)"
   ]
  },
  {
   "attachments": {},
   "cell_type": "markdown",
   "metadata": {},
   "source": [
    "Remove two unrealistic values from ETH dataset"
   ]
  },
  {
   "cell_type": "code",
   "execution_count": 47,
   "metadata": {},
   "outputs": [],
   "source": [
    "gecko_eth_data.loc[1521504000,'eth_twitter_followers'] = float('nan')\n",
    "gecko_eth_data.loc[1521590400,'eth_twitter_followers'] = float('nan')\n",
    "gecko_eth_data.loc[1490486400,'eth_total_issues'] = float('nan')\n",
    "gecko_eth_data.loc[1490486400,'eth_closed_issues'] = float('nan')\n",
    "gecko_eth_data.loc[1490572800,'eth_total_issues'] = float('nan')\n",
    "gecko_eth_data.loc[1490572800,'eth_closed_issues'] = float('nan')\n",
    "gecko_eth_data.loc[1548547200,'eth_total_issues'] = float('nan')\n",
    "gecko_eth_data.loc[1548633600,'eth_total_issues'] = float('nan')"
   ]
  },
  {
   "attachments": {},
   "cell_type": "markdown",
   "metadata": {},
   "source": [
    "<br>\n",
    "\n",
    "### CryptoCompare"
   ]
  },
  {
   "cell_type": "code",
   "execution_count": 48,
   "metadata": {},
   "outputs": [],
   "source": [
    "cc_btc_data = pd.read_parquet('../../1_data_acquisition/crypto_compare/btc_data.parquet.gzip')\n",
    "cc_eth_data = pd.read_parquet('../../1_data_acquisition/crypto_compare/eth_data.parquet.gzip')\n",
    "cc_bvin_hourly = pd.read_parquet('../../1_data_acquisition/crypto_compare/btc_volatility_hourly.parquet.gzip')\n",
    "cc_indices = pd.read_parquet('../../1_data_acquisition/crypto_compare/indices_data.parquet.gzip')"
   ]
  },
  {
   "attachments": {},
   "cell_type": "markdown",
   "metadata": {},
   "source": [
    "Drop columns (this includes PoW related variables for ETH since the goal is predicting future prices which are based on PoS)"
   ]
  },
  {
   "cell_type": "code",
   "execution_count": 49,
   "metadata": {},
   "outputs": [],
   "source": [
    "cc_btc_data = cc_btc_data.drop(columns=[\n",
    "    'btc_price_high', # redundant\n",
    "    'btc_price_low', # redundant\n",
    "    'btc_price_open', # redundant\n",
    "    'btc_exchange_Bitci_volumeto', # too many NAs\n",
    "    'btc_exchange_Bitci_volumefrom', # too many NAs\n",
    "    'btc_exchange_Bitci_volumetotal', # too many NAs\n",
    "    'btc_block_height', # redundant\n",
    "    'btc_transaction_count_all_time', # redundant\n",
    "])\n",
    "\n",
    "cc_eth_data = cc_eth_data.drop(columns=[\n",
    "    'eth_price_high', # redundant\n",
    "    'eth_price_low', # redundant\n",
    "    'eth_price_open', # redundant\n",
    "    'eth_block_height', # redundant\n",
    "    'eth_hashrate', # PoW variable\n",
    "    'eth_difficulty', # PoW variable\n",
    "    'eth_block_time', # PoW variable\n",
    "    'eth_transaction_count_all_time', # redundant\n",
    "])"
   ]
  },
  {
   "attachments": {},
   "cell_type": "markdown",
   "metadata": {},
   "source": [
    "Remove BTSE outlier on 25-02-2022"
   ]
  },
  {
   "cell_type": "code",
   "execution_count": 50,
   "metadata": {},
   "outputs": [],
   "source": [
    "cc_btc_data.btc_exchange_BTSE_volumeto[1645747200] = float('nan')\n",
    "cc_btc_data.btc_exchange_BTSE_volumefrom[1645747200] = float('nan')\n",
    "cc_btc_data.btc_exchange_BTSE_volumetotal[1645747200] = float('nan')"
   ]
  },
  {
   "attachments": {},
   "cell_type": "markdown",
   "metadata": {},
   "source": [
    "Turn missing blockchain data in Sept 2022 showing zero into NA"
   ]
  },
  {
   "cell_type": "code",
   "execution_count": 51,
   "metadata": {},
   "outputs": [],
   "source": [
    "columns = [\n",
    "    'btc_new_addresses',\n",
    "    'btc_active_addresses',\n",
    "    'btc_transaction_count',\n",
    "    'btc_large_transaction_count',\n",
    "    'btc_average_transaction_value',\n",
    "    'btc_hashrate',\n",
    "    'btc_difficulty',\n",
    "    'btc_block_time',\n",
    "    'btc_block_size',\n",
    "]\n",
    "\n",
    "for column in columns:\n",
    "    for time in [1663200000, 1663286400, 1663372800, 1663459200]:\n",
    "        cc_btc_data[column][time] = float('nan')"
   ]
  },
  {
   "attachments": {},
   "cell_type": "markdown",
   "metadata": {},
   "source": [
    "Covert hourly BVIN data to daily"
   ]
  },
  {
   "cell_type": "code",
   "execution_count": 52,
   "metadata": {},
   "outputs": [],
   "source": [
    "cc_bvin_hourly['date'] = [datetime.fromtimestamp(i, tz=pytz.utc).date() for i in cc_bvin_hourly.index]"
   ]
  },
  {
   "cell_type": "code",
   "execution_count": 53,
   "metadata": {},
   "outputs": [],
   "source": [
    "drops = [\n",
    "    'btc_volatility_index_high',\n",
    "    'btc_volatility_index_low',\n",
    "    'btc_volatility_index_open',\n",
    "]"
   ]
  },
  {
   "cell_type": "code",
   "execution_count": 54,
   "metadata": {},
   "outputs": [],
   "source": [
    "cc_bvin_daily = cc_bvin_hourly.drop(columns=drops).groupby('date').mean()\n",
    "cc_bvin_daily.columns = ['index_BVIN_close']"
   ]
  },
  {
   "cell_type": "code",
   "execution_count": 55,
   "metadata": {},
   "outputs": [],
   "source": [
    "cc_bvin_daily['timestamp'] = [datetime(i.year, i.month, i.day, tzinfo=pytz.utc).timestamp()  for i in cc_bvin_daily.index]\n",
    "cc_bvin_daily = cc_bvin_daily.set_index('timestamp')"
   ]
  },
  {
   "attachments": {},
   "cell_type": "markdown",
   "metadata": {},
   "source": [
    "Clean and merge indices data"
   ]
  },
  {
   "cell_type": "code",
   "execution_count": 56,
   "metadata": {},
   "outputs": [],
   "source": [
    "drops = [\n",
    "    'index_MVDASC_high',\n",
    "    'index_MVDASC_low',\n",
    "    'index_MVDASC_open',\n",
    "    'index_MVDASC_close',\n",
    "    'index_MVDAMC_high',\n",
    "    'index_MVDAMC_low',\n",
    "    'index_MVDAMC_open',\n",
    "    'index_MVDAMC_close',\n",
    "    'index_MVDALC_high',\n",
    "    'index_MVDALC_low',\n",
    "    'index_MVDALC_open',\n",
    "    'index_MVDALC_close',\n",
    "    'index_MVDA_high',\n",
    "    'index_MVDA_low',\n",
    "    'index_MVDA_open',\n",
    "]\n",
    "\n",
    "cc_indices = cc_indices.drop(columns=drops)"
   ]
  },
  {
   "cell_type": "code",
   "execution_count": 57,
   "metadata": {},
   "outputs": [],
   "source": [
    "cc_indices = pd.merge(cc_indices, cc_bvin_daily, left_index=True, right_index=True)"
   ]
  },
  {
   "attachments": {},
   "cell_type": "markdown",
   "metadata": {},
   "source": [
    "<br>\n",
    "\n",
    "### Google Trends"
   ]
  },
  {
   "cell_type": "code",
   "execution_count": 58,
   "metadata": {},
   "outputs": [],
   "source": [
    "gtrends_data = pd.read_parquet('../../1_data_acquisition/google_trends/google_trends.parquet.gzip')"
   ]
  },
  {
   "cell_type": "code",
   "execution_count": 59,
   "metadata": {},
   "outputs": [],
   "source": [
    "for column in gtrends_data.columns:\n",
    "    gtrends_data[column] = gtrends_data[column].astype(int)\n",
    "    gtrends_data[column] = ((gtrends_data[column] / gtrends_data[column].shift(1)) - 1) * 100\n",
    "\n",
    "gtrends_data = gtrends_data[1:]    \n",
    "gtrends_data = gtrends_data[[not i for i in gtrends_data.index.duplicated()]]\n",
    "gtrends_data = gtrends_data.replace(-100, float('nan')).replace(float('inf'), float('nan'))"
   ]
  },
  {
   "cell_type": "code",
   "execution_count": 60,
   "metadata": {},
   "outputs": [],
   "source": [
    "gtrends_data = gtrends_data.add_prefix('gtrends_').add_suffix('_relative_change')"
   ]
  },
  {
   "cell_type": "code",
   "execution_count": 61,
   "metadata": {},
   "outputs": [],
   "source": [
    "gtrends_data['timestamp'] = [datetime.strptime(i + '+00:00', '%Y-%m-%d%z').timestamp()  for i in gtrends_data.index]\n",
    "gtrends_data = gtrends_data.set_index('timestamp')"
   ]
  },
  {
   "attachments": {},
   "cell_type": "markdown",
   "metadata": {},
   "source": [
    "<br>\n",
    "\n",
    "### Yahoo Finance"
   ]
  },
  {
   "cell_type": "code",
   "execution_count": 62,
   "metadata": {},
   "outputs": [],
   "source": [
    "yf_data = pd.read_parquet('../../1_data_acquisition/yahoo_finance/yf_data.parquet.gzip')"
   ]
  },
  {
   "attachments": {},
   "cell_type": "markdown",
   "metadata": {},
   "source": [
    "Deal with NAs"
   ]
  },
  {
   "cell_type": "code",
   "execution_count": 63,
   "metadata": {},
   "outputs": [],
   "source": [
    "yf_data = ffill_nans(yf_data)"
   ]
  },
  {
   "attachments": {},
   "cell_type": "markdown",
   "metadata": {},
   "source": [
    "Transform date to timestamp"
   ]
  },
  {
   "cell_type": "code",
   "execution_count": 64,
   "metadata": {},
   "outputs": [],
   "source": [
    "yf_data['timestamp'] = [datetime(i.year, i.month, i.day, tzinfo=pytz.utc).timestamp()  for i in yf_data.index]\n",
    "yf_data = yf_data.set_index('timestamp')"
   ]
  },
  {
   "attachments": {},
   "cell_type": "markdown",
   "metadata": {},
   "source": [
    "<br>\n",
    "\n",
    "### Technical indicators"
   ]
  },
  {
   "cell_type": "code",
   "execution_count": 65,
   "metadata": {},
   "outputs": [],
   "source": [
    "btc_indicators = pd.read_parquet('btc_indicators.parquet.gzip')\n",
    "eth_indicators = pd.read_parquet('eth_indicators.parquet.gzip')"
   ]
  },
  {
   "attachments": {},
   "cell_type": "markdown",
   "metadata": {},
   "source": [
    "<br>\n",
    "\n",
    "### Concatenate all and save"
   ]
  },
  {
   "attachments": {},
   "cell_type": "markdown",
   "metadata": {},
   "source": [
    "Concatenate"
   ]
  },
  {
   "cell_type": "code",
   "execution_count": 66,
   "metadata": {},
   "outputs": [],
   "source": [
    "btc_dfs = [\n",
    "    gecko_btc_data,\n",
    "    cc_btc_data,\n",
    "    cc_indices,\n",
    "    gtrends_data.drop(columns='gtrends_ethereum_relative_change'),\n",
    "    yf_data,\n",
    "    btc_indicators,\n",
    "]\n",
    "\n",
    "eth_dfs = [\n",
    "    gecko_eth_data,\n",
    "    cc_eth_data,\n",
    "    cc_indices,\n",
    "    gtrends_data.drop(columns='gtrends_bitcoin_relative_change'),\n",
    "    yf_data,\n",
    "    eth_indicators,\n",
    "]"
   ]
  },
  {
   "cell_type": "code",
   "execution_count": 67,
   "metadata": {},
   "outputs": [],
   "source": [
    "btc_numeric_data = pd.concat(btc_dfs, axis=1).sort_index()\n",
    "eth_numeric_data = pd.concat(eth_dfs, axis=1).sort_index()"
   ]
  },
  {
   "attachments": {},
   "cell_type": "markdown",
   "metadata": {},
   "source": [
    "Impute the values of SP500, VIX and Gold on weekends"
   ]
  },
  {
   "cell_type": "code",
   "execution_count": 68,
   "metadata": {},
   "outputs": [],
   "source": [
    "for column in ['sp500_price', 'sp500_volume', 'vix', 'gold_usd_price']:\n",
    "    btc_numeric_data[column] = ffill_nans(btc_numeric_data[column])\n",
    "    eth_numeric_data[column] = ffill_nans(eth_numeric_data[column])"
   ]
  },
  {
   "attachments": {},
   "cell_type": "markdown",
   "metadata": {},
   "source": [
    "Cut off data for which no price (target) is available yet"
   ]
  },
  {
   "cell_type": "code",
   "execution_count": 69,
   "metadata": {},
   "outputs": [],
   "source": [
    "btc_numeric_data = btc_numeric_data[btc_numeric_data.index >= 1314403200]\n",
    "eth_numeric_data = eth_numeric_data[eth_numeric_data.index >= 1445299200]"
   ]
  },
  {
   "attachments": {},
   "cell_type": "markdown",
   "metadata": {},
   "source": [
    "Ensure all columns are floats and downcast to smallest possible bit size"
   ]
  },
  {
   "cell_type": "code",
   "execution_count": 70,
   "metadata": {},
   "outputs": [],
   "source": [
    "btc_numeric_data = btc_numeric_data.apply(lambda x: pd.to_numeric(x, downcast='float'))\n",
    "eth_numeric_data = eth_numeric_data.apply(lambda x: pd.to_numeric(x, downcast='float'))"
   ]
  },
  {
   "attachments": {},
   "cell_type": "markdown",
   "metadata": {},
   "source": [
    "Save to parquet"
   ]
  },
  {
   "cell_type": "code",
   "execution_count": 71,
   "metadata": {},
   "outputs": [],
   "source": [
    "btc_numeric_data.to_parquet('btc_numeric_data.parquet.gzip', compression='gzip')\n",
    "eth_numeric_data.to_parquet('eth_numeric_data.parquet.gzip', compression='gzip')"
   ]
  }
 ],
 "metadata": {
  "kernelspec": {
   "display_name": ".tsf-env",
   "language": "python",
   "name": "python3"
  },
  "language_info": {
   "codemirror_mode": {
    "name": "ipython",
    "version": 3
   },
   "file_extension": ".py",
   "mimetype": "text/x-python",
   "name": "python",
   "nbconvert_exporter": "python",
   "pygments_lexer": "ipython3",
   "version": "3.9.14"
  },
  "orig_nbformat": 4
 },
 "nbformat": 4,
 "nbformat_minor": 2
}
