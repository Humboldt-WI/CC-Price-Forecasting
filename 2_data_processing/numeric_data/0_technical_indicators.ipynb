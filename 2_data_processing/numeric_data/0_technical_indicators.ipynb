{
 "cells": [
  {
   "cell_type": "code",
   "execution_count": 1,
   "metadata": {},
   "outputs": [],
   "source": [
    "import pandas as pd\n",
    "from datetime import datetime\n",
    "import ta"
   ]
  },
  {
   "cell_type": "code",
   "execution_count": 2,
   "metadata": {},
   "outputs": [],
   "source": [
    "cc_btc_data = pd.read_parquet('../../1_data_acquisition/crypto_compare/btc_data.parquet.gzip')\n",
    "cc_eth_data = pd.read_parquet('../../1_data_acquisition/crypto_compare/eth_data.parquet.gzip')\n",
    "gecko_btc_data = pd.read_parquet('../../1_data_acquisition/coin_gecko/gecko_btc_data.parquet.gzip')\n",
    "gecko_eth_data = pd.read_parquet('../../1_data_acquisition/coin_gecko/gecko_eth_data.parquet.gzip')"
   ]
  },
  {
   "cell_type": "code",
   "execution_count": 3,
   "metadata": {},
   "outputs": [],
   "source": [
    "for df in [gecko_btc_data, gecko_eth_data]:\n",
    "    df['timestamp'] = [datetime.strptime(datetime.fromtimestamp(i).date().strftime('%Y-%m-%d')+'+00:00', '%Y-%m-%d%z').timestamp() for i in df.index]\n",
    "gecko_btc_data = gecko_btc_data.set_index('timestamp')\n",
    "gecko_eth_data = gecko_eth_data.set_index('timestamp')"
   ]
  },
  {
   "cell_type": "code",
   "execution_count": 4,
   "metadata": {},
   "outputs": [],
   "source": [
    "btc_price_data = pd.concat([cc_btc_data[['btc_price_high', 'btc_price_low', 'btc_price_open', 'btc_price_close']], gecko_btc_data[['btc_total_volume']]], axis=1)\n",
    "eth_price_data = pd.concat([cc_eth_data[['eth_price_high', 'eth_price_low', 'eth_price_open', 'eth_price_close']], gecko_eth_data[['eth_total_volume']]], axis=1)"
   ]
  },
  {
   "cell_type": "code",
   "execution_count": 5,
   "metadata": {},
   "outputs": [
    {
     "name": "stderr",
     "output_type": "stream",
     "text": [
      "/Users/vincentgurgul/.tsf-env/lib/python3.9/site-packages/ta/trend.py:1006: FutureWarning: Treating integers as positional in Series.__setitem__ with a Float64Index is deprecated. In a future version, `series[an_int] = val` will insert a new key into the Series. Use `series.iloc[an_int] = val` to treat the key as positional.\n",
      "  self._psar[i] = high2\n",
      "/Users/vincentgurgul/.tsf-env/lib/python3.9/site-packages/ta/trend.py:1006: FutureWarning: Treating integers as positional in Series.__setitem__ with a Float64Index is deprecated. In a future version, `series[an_int] = val` will insert a new key into the Series. Use `series.iloc[an_int] = val` to treat the key as positional.\n",
      "  self._psar[i] = high2\n"
     ]
    }
   ],
   "source": [
    "high = btc_price_data.btc_price_high\n",
    "low = btc_price_data.btc_price_low\n",
    "close = btc_price_data.btc_price_close\n",
    "volume = btc_price_data.btc_total_volume\n",
    "\n",
    "btc_indicators = pd.DataFrame(index=btc_price_data.index)\n",
    "\n",
    "btc_indicators['btc_indicator_AO'] = ta.momentum.awesome_oscillator(high, low)\n",
    "btc_indicators['btc_indicator_KAMA'] = ta.momentum.kama(close)\n",
    "btc_indicators['btc_indicator_PPO'] = ta.momentum.ppo(close)\n",
    "btc_indicators['btc_indicator_PVO'] = ta.momentum.pvo(volume)\n",
    "btc_indicators['btc_indicator_ROC'] = ta.momentum.roc(close)\n",
    "btc_indicators['btc_indicator_RSI'] = ta.momentum.rsi(close)\n",
    "btc_indicators['btc_indicator_Stoch_RSI'] = ta.momentum.stochrsi(close)\n",
    "btc_indicators['btc_indicator_Stoch'] = ta.momentum.stoch(high, low, close)\n",
    "btc_indicators['btc_indicator_TSI'] = ta.momentum.tsi(close)\n",
    "btc_indicators['btc_indicator_ultimate'] = ta.momentum.ultimate_oscillator(high, low, close)\n",
    "btc_indicators['btc_indicator_WilliamsR'] = -ta.momentum.williams_r(high, low, close)\n",
    "btc_indicators['btc_indicator_ADI'] = ta.volume.acc_dist_index(high, low, close, volume)\n",
    "btc_indicators['btc_indicator_CMF'] = ta.volume.chaikin_money_flow(high, low, close, volume)\n",
    "btc_indicators['btc_indicator_EMV'] = ta.volume.ease_of_movement(high, low, volume)\n",
    "btc_indicators['btc_indicator_FI'] = ta.volume.force_index(close, volume)\n",
    "btc_indicators['btc_indicator_MFI'] = ta.volume.money_flow_index(high, low, close, volume)\n",
    "btc_indicators['btc_indicator_NVI'] = ta.volume.negative_volume_index(close, volume)\n",
    "btc_indicators['btc_indicator_OBV'] = ta.volume.on_balance_volume(close, volume)\n",
    "btc_indicators['btc_indicator_VPT'] = ta.volume.volume_price_trend(close, volume)\n",
    "btc_indicators['btc_indicator_VWAP'] = ta.volume.volume_weighted_average_price(high, low, close, volume)\n",
    "btc_indicators['btc_indicator_BBM'] = ta.volatility.bollinger_mavg(close)\n",
    "btc_indicators['btc_indicator_BBW'] = ta.volatility.bollinger_wband(close)\n",
    "btc_indicators['btc_indicator_DCM'] = ta.volatility.donchian_channel_mband(high, low, close)\n",
    "btc_indicators['btc_indicator_DCW'] = ta.volatility.donchian_channel_wband(high, low, close)\n",
    "btc_indicators['btc_indicator_KCM'] = ta.volatility.keltner_channel_mband(high, low, close)\n",
    "btc_indicators['btc_indicator_KCW'] = ta.volatility.keltner_channel_wband(high, low, close)\n",
    "btc_indicators['btc_indicator_UI'] = ta.volatility.ulcer_index(close)\n",
    "btc_indicators['btc_indicator_Aroon_down'] = ta.trend.aroon_down(close)\n",
    "btc_indicators['btc_indicator_Aroon_up'] = ta.trend.aroon_up(close)\n",
    "btc_indicators['btc_indicator_CCI'] = ta.trend.cci(high, low, close)\n",
    "btc_indicators['btc_indicator_DPO'] = ta.trend.dpo(close)\n",
    "btc_indicators['btc_indicator_EMA'] = ta.trend.ema_indicator(close)\n",
    "btc_indicators['btc_indicator_Ichimoku_A'] = ta.trend.ichimoku_a(high, low)\n",
    "btc_indicators['btc_indicator_Ichimoku_B'] = ta.trend.ichimoku_b(high, low)\n",
    "btc_indicators['btc_indicator_Ichimoku_Base'] = ta.trend.ichimoku_base_line(high, low)\n",
    "btc_indicators['btc_indicator_Ichimoku_Conversion'] = ta.trend.ichimoku_conversion_line(high, low)\n",
    "btc_indicators['btc_indicator_KST'] = ta.trend.kst_sig(close)\n",
    "btc_indicators['btc_indicator_MACD'] = ta.trend.macd(close)\n",
    "btc_indicators['btc_indicator_MACD_Signal'] = ta.trend.macd_signal(close)\n",
    "btc_indicators['btc_indicator_MI'] = ta.trend.mass_index(high, low)\n",
    "btc_indicators['btc_indicator_PSAR_down'] = ta.trend.psar_down_indicator(high, low, close)\n",
    "btc_indicators['btc_indicator_PSAR_up'] = ta.trend.psar_up_indicator(high, low, close)\n",
    "btc_indicators['btc_indicator_TRIX'] = ta.trend.trix(close)\n",
    "btc_indicators['btc_indicator_Vortex_down'] = ta.trend.vortex_indicator_neg(high, low, close)\n",
    "btc_indicators['btc_indicator_Vortex_up'] = ta.trend.vortex_indicator_pos(high, low, close)\n",
    "btc_indicators['btc_indicator_WMA'] = ta.trend.wma_indicator(close)\n",
    "btc_indicators['btc_indicator_CR'] = ta.others.cumulative_return(close)\n",
    "btc_indicators['btc_indicator_CR'] = ta.others.cumulative_return(close)"
   ]
  },
  {
   "cell_type": "code",
   "execution_count": 6,
   "metadata": {},
   "outputs": [
    {
     "name": "stderr",
     "output_type": "stream",
     "text": [
      "/Users/vincentgurgul/.tsf-env/lib/python3.9/site-packages/ta/trend.py:1006: FutureWarning: Treating integers as positional in Series.__setitem__ with a Float64Index is deprecated. In a future version, `series[an_int] = val` will insert a new key into the Series. Use `series.iloc[an_int] = val` to treat the key as positional.\n",
      "  self._psar[i] = high2\n",
      "/Users/vincentgurgul/.tsf-env/lib/python3.9/site-packages/ta/trend.py:1006: FutureWarning: Treating integers as positional in Series.__setitem__ with a Float64Index is deprecated. In a future version, `series[an_int] = val` will insert a new key into the Series. Use `series.iloc[an_int] = val` to treat the key as positional.\n",
      "  self._psar[i] = high2\n"
     ]
    }
   ],
   "source": [
    "high = eth_price_data.eth_price_high\n",
    "low = eth_price_data.eth_price_low\n",
    "close = eth_price_data.eth_price_close\n",
    "volume = eth_price_data.eth_total_volume\n",
    "\n",
    "eth_indicators = pd.DataFrame(index=eth_price_data.index)\n",
    "\n",
    "eth_indicators['eth_indicator_AO'] = ta.momentum.awesome_oscillator(high, low)\n",
    "eth_indicators['eth_indicator_KAMA'] = ta.momentum.kama(close)\n",
    "eth_indicators['eth_indicator_PPO'] = ta.momentum.ppo(close)\n",
    "eth_indicators['eth_indicator_PVO'] = ta.momentum.pvo(volume)\n",
    "eth_indicators['eth_indicator_ROC'] = ta.momentum.roc(close)\n",
    "eth_indicators['eth_indicator_RSI'] = ta.momentum.rsi(close)\n",
    "eth_indicators['eth_indicator_Stoch_RSI'] = ta.momentum.stochrsi(close)\n",
    "eth_indicators['eth_indicator_Stoch'] = ta.momentum.stoch(high, low, close)\n",
    "eth_indicators['eth_indicator_TSI'] = ta.momentum.tsi(close)\n",
    "eth_indicators['eth_indicator_ultimate'] = ta.momentum.ultimate_oscillator(high, low, close)\n",
    "eth_indicators['eth_indicator_WilliamsR'] = -ta.momentum.williams_r(high, low, close)\n",
    "eth_indicators['eth_indicator_ADI'] = ta.volume.acc_dist_index(high, low, close, volume)\n",
    "eth_indicators['eth_indicator_CMF'] = ta.volume.chaikin_money_flow(high, low, close, volume)\n",
    "eth_indicators['eth_indicator_EMV'] = ta.volume.ease_of_movement(high, low, volume)\n",
    "eth_indicators['eth_indicator_FI'] = ta.volume.force_index(close, volume)\n",
    "eth_indicators['eth_indicator_MFI'] = ta.volume.money_flow_index(high, low, close, volume)\n",
    "eth_indicators['eth_indicator_NVI'] = ta.volume.negative_volume_index(close, volume)\n",
    "eth_indicators['eth_indicator_OBV'] = ta.volume.on_balance_volume(close, volume)\n",
    "eth_indicators['eth_indicator_VPT'] = ta.volume.volume_price_trend(close, volume)\n",
    "eth_indicators['eth_indicator_VWAP'] = ta.volume.volume_weighted_average_price(high, low, close, volume)\n",
    "eth_indicators['eth_indicator_BBM'] = ta.volatility.bollinger_mavg(close)\n",
    "eth_indicators['eth_indicator_BBW'] = ta.volatility.bollinger_wband(close)\n",
    "eth_indicators['eth_indicator_DCM'] = ta.volatility.donchian_channel_mband(high, low, close)\n",
    "eth_indicators['eth_indicator_DCW'] = ta.volatility.donchian_channel_wband(high, low, close)\n",
    "eth_indicators['eth_indicator_KCM'] = ta.volatility.keltner_channel_mband(high, low, close)\n",
    "eth_indicators['eth_indicator_KCW'] = ta.volatility.keltner_channel_wband(high, low, close)\n",
    "eth_indicators['eth_indicator_UI'] = ta.volatility.ulcer_index(close)\n",
    "eth_indicators['eth_indicator_Aroon_down'] = ta.trend.aroon_down(close)\n",
    "eth_indicators['eth_indicator_Aroon_up'] = ta.trend.aroon_up(close)\n",
    "eth_indicators['eth_indicator_CCI'] = ta.trend.cci(high, low, close)\n",
    "eth_indicators['eth_indicator_DPO'] = ta.trend.dpo(close)\n",
    "eth_indicators['eth_indicator_EMA'] = ta.trend.ema_indicator(close)\n",
    "eth_indicators['eth_indicator_Ichimoku_A'] = ta.trend.ichimoku_a(high, low)\n",
    "eth_indicators['eth_indicator_Ichimoku_B'] = ta.trend.ichimoku_b(high, low)\n",
    "eth_indicators['eth_indicator_Ichimoku_Base'] = ta.trend.ichimoku_base_line(high, low)\n",
    "eth_indicators['eth_indicator_Ichimoku_Conversion'] = ta.trend.ichimoku_conversion_line(high, low)\n",
    "eth_indicators['eth_indicator_KST'] = ta.trend.kst_sig(close)\n",
    "eth_indicators['eth_indicator_MACD'] = ta.trend.macd(close)\n",
    "eth_indicators['eth_indicator_MACD_Signal'] = ta.trend.macd_signal(close)\n",
    "eth_indicators['eth_indicator_MI'] = ta.trend.mass_index(high, low)\n",
    "eth_indicators['eth_indicator_PSAR_down'] = ta.trend.psar_down_indicator(high, low, close)\n",
    "eth_indicators['eth_indicator_PSAR_up'] = ta.trend.psar_up_indicator(high, low, close)\n",
    "eth_indicators['eth_indicator_TRIX'] = ta.trend.trix(close)\n",
    "eth_indicators['eth_indicator_Vortex_down'] = ta.trend.vortex_indicator_neg(high, low, close)\n",
    "eth_indicators['eth_indicator_Vortex_up'] = ta.trend.vortex_indicator_pos(high, low, close)\n",
    "eth_indicators['eth_indicator_WMA'] = ta.trend.wma_indicator(close)\n",
    "eth_indicators['eth_indicator_CR'] = ta.others.cumulative_return(close)\n",
    "eth_indicators['eth_indicator_CR'] = ta.others.cumulative_return(close)"
   ]
  },
  {
   "cell_type": "code",
   "execution_count": 7,
   "metadata": {},
   "outputs": [],
   "source": [
    "btc_indicators.to_parquet('btc_indicators.parquet.gzip', compression='gzip')\n",
    "eth_indicators.to_parquet('eth_indicators.parquet.gzip', compression='gzip')"
   ]
  }
 ],
 "metadata": {
  "kernelspec": {
   "display_name": ".tsf-env",
   "language": "python",
   "name": "python3"
  },
  "language_info": {
   "codemirror_mode": {
    "name": "ipython",
    "version": 3
   },
   "file_extension": ".py",
   "mimetype": "text/x-python",
   "name": "python",
   "nbconvert_exporter": "python",
   "pygments_lexer": "ipython3",
   "version": "3.9.14"
  },
  "orig_nbformat": 4
 },
 "nbformat": 4,
 "nbformat_minor": 2
}
