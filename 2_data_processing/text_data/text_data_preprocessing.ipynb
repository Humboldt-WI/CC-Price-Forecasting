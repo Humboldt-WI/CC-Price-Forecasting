{
 "cells": [
  {
   "attachments": {},
   "cell_type": "markdown",
   "metadata": {},
   "source": [
    "## Preprocessing text data"
   ]
  },
  {
   "cell_type": "code",
   "execution_count": 7,
   "metadata": {},
   "outputs": [],
   "source": [
    "import re\n",
    "import html\n",
    "import pandas as pd\n",
    "\n",
    "from emot import EMOJI_UNICODE"
   ]
  },
  {
   "cell_type": "code",
   "execution_count": 8,
   "metadata": {},
   "outputs": [],
   "source": [
    "btc_news = pd.read_parquet('../../1_data_acquisition/google_news/btc_news_data.parquet.gzip')\n",
    "eth_news = pd.read_parquet('../../1_data_acquisition/google_news/eth_news_data.parquet.gzip')\n",
    "reddit_r_bitcoin = pd.read_parquet('../../1_data_acquisition/reddit/reddit_r_bitcoin.parquet.gzip')\n",
    "reddit_r_ethereum = pd.read_parquet('../../1_data_acquisition/reddit/reddit_r_ethereum.parquet.gzip')\n",
    "btc_tweets = pd.read_parquet('../../1_data_acquisition/twitter/btc_tweets.parquet.gzip')\n",
    "eth_tweets = pd.read_parquet('../../1_data_acquisition/twitter/eth_tweets.parquet.gzip')"
   ]
  },
  {
   "attachments": {},
   "cell_type": "markdown",
   "metadata": {},
   "source": [
    "### Add day, month and year for grouping"
   ]
  },
  {
   "cell_type": "code",
   "execution_count": 9,
   "metadata": {},
   "outputs": [],
   "source": [
    "for df in [btc_news, eth_news]:\n",
    "    df['day'] = [i.day for i in df.datetime]\n",
    "    df['month'] = [i.month for i in df.datetime]\n",
    "    df['year'] = [i.year for i in df.datetime]\n",
    "    \n",
    "for df in [reddit_r_bitcoin, reddit_r_ethereum]:\n",
    "    df['day'] = [i.day for i in df.time]\n",
    "    df['month'] = [i.month for i in df.time]\n",
    "    df['year'] = [i.year for i in df.time]"
   ]
  },
  {
   "attachments": {},
   "cell_type": "markdown",
   "metadata": {},
   "source": [
    "### Remove deleted or empty reddit posts"
   ]
  },
  {
   "cell_type": "code",
   "execution_count": 10,
   "metadata": {},
   "outputs": [],
   "source": [
    "reddit_r_bitcoin = reddit_r_bitcoin[~reddit_r_bitcoin.selftext.isin(['', '[deleted]', '[removed]'])]\n",
    "reddit_r_ethereum = reddit_r_ethereum[~reddit_r_ethereum.selftext.isin(['', '[deleted]', '[removed]'])]"
   ]
  },
  {
   "attachments": {},
   "cell_type": "markdown",
   "metadata": {},
   "source": [
    "### Remove tweets regarding Ethiopia\n",
    "\n",
    "...and particularly their performance in the Summer Olympics 2016 in Rio from the Ethereum tweet dataset"
   ]
  },
  {
   "cell_type": "code",
   "execution_count": 13,
   "metadata": {},
   "outputs": [],
   "source": [
    "rm = {'Rio2016', 'ethiopia', 'Olympics'}\n",
    "l = []\n",
    "for i in eth_tweets.hashtags.values:\n",
    "    try:\n",
    "        l.append(set(i).isdisjoint(rm))\n",
    "    except:\n",
    "        l.append(True)"
   ]
  },
  {
   "cell_type": "code",
   "execution_count": 14,
   "metadata": {},
   "outputs": [
    {
     "name": "stdout",
     "output_type": "stream",
     "text": [
      "Removing 193 tweets.\n"
     ]
    }
   ],
   "source": [
    "print(f'Removing {len(eth_tweets)-len(eth_tweets[l])} tweets.')\n",
    "eth_tweets = eth_tweets[l]"
   ]
  },
  {
   "attachments": {},
   "cell_type": "markdown",
   "metadata": {},
   "source": [
    "### Clean tweets and reddit posts for analysis"
   ]
  },
  {
   "cell_type": "code",
   "execution_count": 15,
   "metadata": {},
   "outputs": [],
   "source": [
    "def remove_whitespace(string):\n",
    "    ''' Function to remove tabs, line delimiters etc. from a string of text. '''\n",
    "    return ' '.join(string.split())\n",
    "\n",
    "def remove_repeated_chars(string):\n",
    "    ''' Function to remove any instance of the same character being repeated\n",
    "    more than 10 times. (e.g. lines to separate paragraphs)'''\n",
    "    pattern = r'(.)\\1{9,}'\n",
    "    return re.sub(pattern, '', string)\n",
    "\n",
    "def remove_urls(string):\n",
    "    ''' Function to remove any kind of URLs from a string of text. '''\n",
    "    pattern = r'\\[?\\(?(https?://\\S+|www\\.\\S+|\\w+\\.\\w+/\\S+)\\]?\\)?'\n",
    "    return re.sub(pattern, '', string)\n",
    "\n",
    "def convert_emojis(string):\n",
    "    ''' Function to convert emojis into a text that reflects their meaning. '''\n",
    "    for i in EMOJI_UNICODE:\n",
    "        replacement = i.translate(str.maketrans('', '', ':')).replace(r'_', r' ')\n",
    "        string = string.replace(EMOJI_UNICODE[i], f'[{replacement} emoji]')\n",
    "    return string\n",
    "\n",
    "def get_raw_text_utf8(string):\n",
    "    ''' Returns raw text of the input string in utf-8 encoding,\n",
    "    i.e. containing all unicode elements in unaltered form. '''\n",
    "    string = html.unescape(string) # unescape string to e.g. convert \"&amp;\" to \"&\" or \"&#xB200\" to \" \"\n",
    "    string = remove_repeated_chars(string) # remove characters repeated more than 10 times\n",
    "    string = remove_urls(string) # remove URLs\n",
    "    return remove_whitespace(string) # return string without tabs and line delimiters\n",
    "\n",
    "def get_raw_text_ascii(string):\n",
    "    ''' Returns raw text of the input string in ASCII encoding,\n",
    "    i.e. with all unicode elements removed. '''\n",
    "    string = html.unescape(string) # unescape string to e.g. convert \"&amp;\" to \"&\" or \"&#xB200\" to \" \"\n",
    "    string = remove_repeated_chars(string) # remove characters repeated more than 10 times\n",
    "    string = remove_urls(string) # remove URLs\n",
    "    string = string.encode('ascii', 'ignore').decode('utf-8') # remove all non-ASCII characters\n",
    "    return remove_whitespace(string) # return string without tabs and line delimiters\n",
    "\n",
    "def get_raw_text_ascii_emoji(string):\n",
    "    ''' Returns raw text of the input string in ASCII encoding,\n",
    "    i.e. without unicode elements, but with emojis converted to their\n",
    "    textual description in the following form: \"🔥\" to \"[fire emoji]\". '''\n",
    "    string = html.unescape(string) # unescape string to e.g. convert \"&amp;\" to \"&\" or \"&#xB200\" to \" \"\n",
    "    string = remove_repeated_chars(string) # remove characters repeated more than 10 times\n",
    "    string = remove_urls(string) # remove URLs\n",
    "    string = convert_emojis(string) # convert emojis \n",
    "    string = string.encode('ascii', 'ignore').decode('utf-8') # remove all non-ASCII characters\n",
    "    return remove_whitespace(string) # return string without tabs and line delimiters"
   ]
  },
  {
   "cell_type": "code",
   "execution_count": 16,
   "metadata": {},
   "outputs": [
    {
     "name": "stderr",
     "output_type": "stream",
     "text": [
      "/var/folders/hm/rsbwzmnj48q__4wj_y2gzt_m0000gn/T/ipykernel_52095/1008512580.py:2: SettingWithCopyWarning: \n",
      "A value is trying to be set on a copy of a slice from a DataFrame.\n",
      "Try using .loc[row_indexer,col_indexer] = value instead\n",
      "\n",
      "See the caveats in the documentation: https://pandas.pydata.org/pandas-docs/stable/user_guide/indexing.html#returning-a-view-versus-a-copy\n",
      "  reddit_r_ethereum['selftext_cleaned'] = reddit_r_ethereum.selftext.apply(get_raw_text_utf8)\n"
     ]
    }
   ],
   "source": [
    "reddit_r_bitcoin['selftext_cleaned'] = reddit_r_bitcoin.selftext.apply(get_raw_text_utf8)\n",
    "reddit_r_ethereum['selftext_cleaned'] = reddit_r_ethereum.selftext.apply(get_raw_text_utf8)"
   ]
  },
  {
   "cell_type": "code",
   "execution_count": 17,
   "metadata": {},
   "outputs": [],
   "source": [
    "btc_tweets['content_cleaned'] = btc_tweets.content.apply(get_raw_text_utf8)\n",
    "eth_tweets['content_cleaned'] = eth_tweets.content.apply(get_raw_text_utf8)"
   ]
  },
  {
   "attachments": {},
   "cell_type": "markdown",
   "metadata": {},
   "source": [
    "### Remove empty reddit posts (again)\n",
    "\n",
    "Again, since some posts may have consisted only of an URL (e.g. picture posts), which has now been removed."
   ]
  },
  {
   "cell_type": "code",
   "execution_count": 18,
   "metadata": {},
   "outputs": [],
   "source": [
    "reddit_r_bitcoin = reddit_r_bitcoin[reddit_r_bitcoin.selftext_cleaned.str.len() > 2]\n",
    "reddit_r_ethereum = reddit_r_ethereum[reddit_r_ethereum.selftext_cleaned.str.len() > 2]"
   ]
  },
  {
   "attachments": {},
   "cell_type": "markdown",
   "metadata": {},
   "source": [
    "### Combine title and body of reddits posts"
   ]
  },
  {
   "cell_type": "code",
   "execution_count": 19,
   "metadata": {},
   "outputs": [],
   "source": [
    "for df in [reddit_r_bitcoin, reddit_r_ethereum]:\n",
    "    df['content'] = df.title + ' | ' + df.selftext_cleaned"
   ]
  },
  {
   "attachments": {},
   "cell_type": "markdown",
   "metadata": {},
   "source": [
    "### Remove unnecessary columns"
   ]
  },
  {
   "cell_type": "code",
   "execution_count": 20,
   "metadata": {},
   "outputs": [],
   "source": [
    "for df in [btc_news, eth_news]:\n",
    "    df.drop(columns=[\n",
    "        'url',\n",
    "        'datetime'],\n",
    "        inplace=True)\n",
    "\n",
    "for df in [reddit_r_bitcoin, reddit_r_ethereum]:\n",
    "    df.drop(columns=[\n",
    "        'url',\n",
    "        'title',\n",
    "        'selftext',\n",
    "        'selftext_cleaned',\n",
    "        'utc_datetime_str',\n",
    "        'author',\n",
    "        'time'],\n",
    "        inplace=True)\n",
    "\n",
    "for df in [btc_tweets, eth_tweets]:\n",
    "    df.drop(columns=[\n",
    "        'datetime',\n",
    "        'retweeted_tweet',\n",
    "        'hashtags',\n",
    "        'content',\n",
    "        'username',\n",
    "        'user_displayname',\n",
    "        'user_description',\n",
    "        'user_verified'],\n",
    "        inplace=True)"
   ]
  },
  {
   "attachments": {},
   "cell_type": "markdown",
   "metadata": {},
   "source": [
    "### Drop duplicates"
   ]
  },
  {
   "cell_type": "code",
   "execution_count": 21,
   "metadata": {},
   "outputs": [],
   "source": [
    "reddit_r_bitcoin = reddit_r_bitcoin.drop_duplicates(subset=['content', 'year', 'month', 'day'])\n",
    "reddit_r_ethereum = reddit_r_ethereum.drop_duplicates(subset=['content', 'year', 'month', 'day'])\n",
    "btc_tweets = btc_tweets.drop_duplicates(subset=['content_cleaned', 'year', 'month', 'day'])\n",
    "eth_tweets = eth_tweets.drop_duplicates(subset=['content_cleaned', 'year', 'month', 'day'])"
   ]
  },
  {
   "attachments": {},
   "cell_type": "markdown",
   "metadata": {},
   "source": [
    "### Add / rename unique identifier"
   ]
  },
  {
   "cell_type": "code",
   "execution_count": 22,
   "metadata": {},
   "outputs": [],
   "source": [
    "btc_news = btc_news.reset_index()\n",
    "btc_news.index.names = ['news_id']\n",
    "eth_news = eth_news.reset_index()\n",
    "eth_news.index.names = ['news_id']"
   ]
  },
  {
   "cell_type": "code",
   "execution_count": 23,
   "metadata": {},
   "outputs": [],
   "source": [
    "reddit_r_bitcoin = reddit_r_bitcoin.reset_index()\n",
    "reddit_r_bitcoin.index.names = ['post_id']\n",
    "reddit_r_ethereum = reddit_r_ethereum.reset_index()\n",
    "reddit_r_ethereum.index.names = ['post_id']"
   ]
  },
  {
   "cell_type": "code",
   "execution_count": 24,
   "metadata": {},
   "outputs": [],
   "source": [
    "btc_tweets = btc_tweets.rename(columns={'tweet ID': 'tweet_id'})\n",
    "eth_tweets = eth_tweets.rename(columns={'tweet ID': 'tweet_id'})"
   ]
  },
  {
   "attachments": {},
   "cell_type": "markdown",
   "metadata": {},
   "source": [
    "### Save to parquet"
   ]
  },
  {
   "cell_type": "code",
   "execution_count": 25,
   "metadata": {},
   "outputs": [],
   "source": [
    "btc_news.to_parquet('btc_news_processed.parquet.gzip', compression='gzip')\n",
    "eth_news.to_parquet('eth_news_processed.parquet.gzip', compression='gzip')\n",
    "reddit_r_bitcoin.to_parquet('reddit_r_bitcoin_processed.parquet.gzip', compression='gzip')\n",
    "reddit_r_ethereum.to_parquet('reddit_r_ethereum_processed.parquet.gzip', compression='gzip')\n",
    "btc_tweets.to_parquet('btc_tweets_processed.parquet.gzip', compression='gzip')\n",
    "eth_tweets.to_parquet('eth_tweets_processed.parquet.gzip', compression='gzip')"
   ]
  }
 ],
 "metadata": {
  "kernelspec": {
   "display_name": ".tsf-env",
   "language": "python",
   "name": "python3"
  },
  "language_info": {
   "codemirror_mode": {
    "name": "ipython",
    "version": 3
   },
   "file_extension": ".py",
   "mimetype": "text/x-python",
   "name": "python",
   "nbconvert_exporter": "python",
   "pygments_lexer": "ipython3",
   "version": "3.9.14"
  },
  "orig_nbformat": 4
 },
 "nbformat": 4,
 "nbformat_minor": 2
}
