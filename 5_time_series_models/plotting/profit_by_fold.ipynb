{
 "cells": [
  {
   "cell_type": "code",
   "execution_count": 6,
   "metadata": {},
   "outputs": [],
   "source": [
    "import pandas as pd\n",
    "import sys\n",
    "sys.path.append('../')\n",
    "from functions import get_target_profit_per_fold"
   ]
  },
  {
   "attachments": {},
   "cell_type": "markdown",
   "metadata": {},
   "source": [
    "## BTC"
   ]
  },
  {
   "cell_type": "code",
   "execution_count": 7,
   "metadata": {},
   "outputs": [],
   "source": [
    "coin = 'btc'\n",
    "price_data = pd.read_parquet(f'../../2_data_processing/numeric_data/{coin}_price_data.parquet.gzip').iloc[:,0]\n",
    "target_path = f'../../2_data_processing/numeric_data/{coin}_targets.parquet.gzip'\n",
    "targets = pd.read_parquet(target_path)"
   ]
  },
  {
   "attachments": {},
   "cell_type": "markdown",
   "metadata": {},
   "source": [
    "### Calculate profits"
   ]
  },
  {
   "cell_type": "code",
   "execution_count": 8,
   "metadata": {},
   "outputs": [],
   "source": [
    "n_folds = 8"
   ]
  },
  {
   "cell_type": "code",
   "execution_count": 9,
   "metadata": {},
   "outputs": [
    {
     "name": "stdout",
     "output_type": "stream",
     "text": [
      "{0: 3915.2896486229897,\n",
      "1: -42.23883068044773,\n",
      "2: 139.62820407829,\n",
      "3: 1470.4572639349274,\n",
      "4: -38.39682372155111,\n",
      "5: 76.83195212762159,\n",
      "6: 405.15155722337573,\n",
      "7: -54.54199070241255,}\n"
     ]
    }
   ],
   "source": [
    "#b&h profit\n",
    "y_true = (targets.iloc[:,0] > 0) * 1\n",
    "bh_profits, target_profits = get_target_profit_per_fold(n_folds, y_true, price_data, prediction_type='movement')\n",
    "print(\"{\" + \"\\n\".join(\"{!r}: {!r},\".format(k, v) for k, v in bh_profits.items()) + \"}\")"
   ]
  },
  {
   "cell_type": "code",
   "execution_count": 10,
   "metadata": {},
   "outputs": [
    {
     "name": "stdout",
     "output_type": "stream",
     "text": [
      "{0: 54891480.991487764,\n",
      "1: 14253.194529135886,\n",
      "2: 8958.966046468659,\n",
      "3: 766033.6446281599,\n",
      "4: 32695.70771020779,\n",
      "5: 69248.61511469414,\n",
      "6: 162215.3831629928,\n",
      "7: 9803.594522496072,}\n"
     ]
    }
   ],
   "source": [
    "# log price difference\n",
    "print(\"{\" + \"\\n\".join(\"{!r}: {!r},\".format(k, v) for k, v in target_profits.items()) + \"}\")"
   ]
  },
  {
   "cell_type": "code",
   "execution_count": 11,
   "metadata": {},
   "outputs": [
    {
     "name": "stdout",
     "output_type": "stream",
     "text": [
      "{0: 40492.940418454724,\n",
      "1: 56.70849237742881,\n",
      "2: 189.08419668595283,\n",
      "3: 3650.252928177349,\n",
      "4: 230.32107494177168,\n",
      "5: 533.677274378252,\n",
      "6: 3453.0963448487073,\n",
      "7: 226.06861890510638,}\n"
     ]
    }
   ],
   "source": [
    "# 7d extrama\n",
    "y_min = targets.iloc[:,1]\n",
    "y_max = targets.iloc[:,2]\n",
    "y_true = pd.DataFrame({\n",
    "    'min': y_min,\n",
    "    'max': y_max,\n",
    "})\n",
    "_, target_profits = get_target_profit_per_fold(n_folds, y_true, price_data, prediction_type='extrema')\n",
    "print(\"{\" + \"\\n\".join(\"{!r}: {!r},\".format(k, v) for k, v in target_profits.items()) + \"}\")"
   ]
  },
  {
   "cell_type": "code",
   "execution_count": 7,
   "metadata": {},
   "outputs": [
    {
     "name": "stdout",
     "output_type": "stream",
     "text": [
      "{0: 167311.47955938906,\n",
      "1: 75.74196978814393,\n",
      "2: 243.22392413085967,\n",
      "3: 7457.834121253714,\n",
      "4: 317.94249992002597,\n",
      "5: 216.81409699536815,\n",
      "6: 478.8187095483227,\n",
      "7: 73.18237103994407,}\n"
     ]
    }
   ],
   "source": [
    "# 14d extrama\n",
    "y_min = targets.iloc[:,3]\n",
    "y_max = targets.iloc[:,4]\n",
    "y_true = pd.DataFrame({\n",
    "    'min': y_min,\n",
    "    'max': y_max,\n",
    "})\n",
    "_, target_profits = get_target_profit_per_fold(n_folds, y_true, price_data, prediction_type='extrema')\n",
    "print(\"{\" + \"\\n\".join(\"{!r}: {!r},\".format(k, v) for k, v in target_profits.items()) + \"}\")"
   ]
  },
  {
   "cell_type": "code",
   "execution_count": 8,
   "metadata": {},
   "outputs": [
    {
     "name": "stdout",
     "output_type": "stream",
     "text": [
      "{0: 156797.57002309157,\n",
      "1: 78.66936273728568,\n",
      "2: 132.73828877885907,\n",
      "3: 6426.4031509025945,\n",
      "4: 150.6118696064899,\n",
      "5: 307.31350528124904,\n",
      "6: 1184.899736474141,\n",
      "7: 58.55412976995964,}\n"
     ]
    }
   ],
   "source": [
    "# 21d extrama\n",
    "y_min = targets.iloc[:,5]\n",
    "y_max = targets.iloc[:,6]\n",
    "y_true = pd.DataFrame({\n",
    "    'min': y_min,\n",
    "    'max': y_max,\n",
    "})\n",
    "_, target_profits = get_target_profit_per_fold(n_folds, y_true, price_data, prediction_type='extrema')\n",
    "print(\"{\" + \"\\n\".join(\"{!r}: {!r},\".format(k, v) for k, v in target_profits.items()) + \"}\")"
   ]
  },
  {
   "attachments": {},
   "cell_type": "markdown",
   "metadata": {},
   "source": [
    "## ETH"
   ]
  },
  {
   "cell_type": "code",
   "execution_count": 12,
   "metadata": {},
   "outputs": [],
   "source": [
    "coin = 'eth'\n",
    "price_data = pd.read_parquet(f'../../2_data_processing/numeric_data/{coin}_price_data.parquet.gzip').iloc[:,0]\n",
    "target_path = f'../../2_data_processing/numeric_data/{coin}_targets.parquet.gzip'\n",
    "targets = pd.read_parquet(target_path)"
   ]
  },
  {
   "attachments": {},
   "cell_type": "markdown",
   "metadata": {},
   "source": [
    "### Calculate profits"
   ]
  },
  {
   "cell_type": "code",
   "execution_count": 13,
   "metadata": {},
   "outputs": [],
   "source": [
    "n_folds = 8"
   ]
  },
  {
   "cell_type": "code",
   "execution_count": 14,
   "metadata": {},
   "outputs": [
    {
     "name": "stdout",
     "output_type": "stream",
     "text": [
      "{0: 3135.4920437772016,\n",
      "1: 12.500379329750434,\n",
      "2: -73.09498882963206,\n",
      "3: 44.26700661810481,\n",
      "4: 128.2106663068083,\n",
      "5: 506.2623456934361,\n",
      "6: -0.38872309891443413,\n",
      "7: -15.834510801486722,}\n"
     ]
    }
   ],
   "source": [
    "#b&h profit\n",
    "y_true = (targets.iloc[:,0] > 0) * 1\n",
    "bh_profits, target_profits = get_target_profit_per_fold(n_folds, y_true, price_data, prediction_type='movement')\n",
    "print(\"{\" + \"\\n\".join(\"{!r}: {!r},\".format(k, v) for k, v in bh_profits.items()) + \"}\")"
   ]
  },
  {
   "cell_type": "code",
   "execution_count": 12,
   "metadata": {},
   "outputs": [
    {
     "name": "stdout",
     "output_type": "stream",
     "text": [
      "{0: 186350.3424382529,\n",
      "1: 127339.16530080266,\n",
      "2: 14765.02117557028,\n",
      "3: 9850.437437345472,\n",
      "4: 25209.06368610899,\n",
      "5: 127970.82616855267,\n",
      "6: 12003.51580915432,\n",
      "7: 6946.730811822795,}\n"
     ]
    }
   ],
   "source": [
    "# log price difference\n",
    "print(\"{\" + \"\\n\".join(\"{!r}: {!r},\".format(k, v) for k, v in target_profits.items()) + \"}\")"
   ]
  },
  {
   "cell_type": "code",
   "execution_count": 13,
   "metadata": {},
   "outputs": [
    {
     "name": "stdout",
     "output_type": "stream",
     "text": [
      "{0: 872.3281253242202,\n",
      "1: 155.07636479401245,\n",
      "2: 76.52008578737508,\n",
      "3: 348.9491761660118,\n",
      "4: 360.62818784194076,\n",
      "5: 795.3984399772206,\n",
      "6: 289.5712668557827,\n",
      "7: 266.14882202156053,}\n"
     ]
    }
   ],
   "source": [
    "# 7d extrama\n",
    "y_min = targets.iloc[:,1]\n",
    "y_max = targets.iloc[:,2]\n",
    "y_true = pd.DataFrame({\n",
    "    'min': y_min,\n",
    "    'max': y_max,\n",
    "})\n",
    "_, target_profits = get_target_profit_per_fold(n_folds, y_true, price_data, prediction_type='extrema')\n",
    "print(\"{\" + \"\\n\".join(\"{!r}: {!r},\".format(k, v) for k, v in target_profits.items()) + \"}\")"
   ]
  },
  {
   "cell_type": "code",
   "execution_count": 14,
   "metadata": {},
   "outputs": [
    {
     "name": "stdout",
     "output_type": "stream",
     "text": [
      "{0: 575.333250188802,\n",
      "1: 104.55755014403718,\n",
      "2: 220.456708797223,\n",
      "3: 425.4552325424476,\n",
      "4: 303.2339441154283,\n",
      "5: 441.3174047340451,\n",
      "6: 196.11197015722203,\n",
      "7: 108.31794363900204,}\n"
     ]
    }
   ],
   "source": [
    "# 14d extrama\n",
    "y_min = targets.iloc[:,3]\n",
    "y_max = targets.iloc[:,4]\n",
    "y_true = pd.DataFrame({\n",
    "    'min': y_min,\n",
    "    'max': y_max,\n",
    "})\n",
    "_, target_profits = get_target_profit_per_fold(n_folds, y_true, price_data, prediction_type='extrema')\n",
    "print(\"{\" + \"\\n\".join(\"{!r}: {!r},\".format(k, v) for k, v in target_profits.items()) + \"}\")"
   ]
  },
  {
   "cell_type": "code",
   "execution_count": 15,
   "metadata": {},
   "outputs": [
    {
     "name": "stdout",
     "output_type": "stream",
     "text": [
      "{0: 55.24457871324251,\n",
      "1: 153.98864352688784,\n",
      "2: 318.6584483584328,\n",
      "3: 205.44631574866995,\n",
      "4: 259.1898171661694,\n",
      "5: 306.8483170455963,\n",
      "6: 174.90391471434256,\n",
      "7: 73.55119345438406,}\n"
     ]
    }
   ],
   "source": [
    "# 21d extrama\n",
    "y_min = targets.iloc[:,5]\n",
    "y_max = targets.iloc[:,6]\n",
    "y_true = pd.DataFrame({\n",
    "    'min': y_min,\n",
    "    'max': y_max,\n",
    "})\n",
    "_, target_profits = get_target_profit_per_fold(n_folds, y_true, price_data, prediction_type='extrema')\n",
    "print(\"{\" + \"\\n\".join(\"{!r}: {!r},\".format(k, v) for k, v in target_profits.items()) + \"}\")"
   ]
  }
 ],
 "metadata": {
  "kernelspec": {
   "display_name": ".tsf-env",
   "language": "python",
   "name": "python3"
  },
  "language_info": {
   "codemirror_mode": {
    "name": "ipython",
    "version": 3
   },
   "file_extension": ".py",
   "mimetype": "text/x-python",
   "name": "python",
   "nbconvert_exporter": "python",
   "pygments_lexer": "ipython3",
   "version": "3.9.14"
  },
  "orig_nbformat": 4
 },
 "nbformat": 4,
 "nbformat_minor": 2
}
